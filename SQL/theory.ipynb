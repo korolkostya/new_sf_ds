{
 "cells": [
  {
   "attachments": {},
   "cell_type": "markdown",
   "metadata": {},
   "source": [
    "SELECT *\n",
    "FROM sql.kinopoisk"
   ]
  },
  {
   "attachments": {},
   "cell_type": "markdown",
   "metadata": {},
   "source": [
    "SELECT movie_title, year, rating\n",
    "FROM sql.kinopoisk"
   ]
  },
  {
   "attachments": {},
   "cell_type": "markdown",
   "metadata": {},
   "source": [
    "SELECT\n",
    "    movie_title,\n",
    "    2020 - year,\n",
    "    rating\n",
    "FROM sql.kinopoisk"
   ]
  },
  {
   "attachments": {},
   "cell_type": "markdown",
   "metadata": {},
   "source": [
    "SELECT\n",
    "    director,\n",
    "    movie_title,\n",
    "    10 - rating AS difference\n",
    "FROM sql.kinopoisk"
   ]
  },
  {
   "attachments": {},
   "cell_type": "markdown",
   "metadata": {},
   "source": [
    "SELECT\n",
    "    director,\n",
    "    movie_title,\n",
    "    rating*10\n",
    "FROM sql.kinopoisk"
   ]
  },
  {
   "attachments": {},
   "cell_type": "markdown",
   "metadata": {},
   "source": [
    "SELECT\n",
    "    movie_title,\n",
    "    year / rating\n",
    "FROM sql.kinopoisk"
   ]
  },
  {
   "attachments": {},
   "cell_type": "markdown",
   "metadata": {},
   "source": [
    "SELECT *\n",
    "FROM sql.kinopoisk\n",
    "WHERE position = 1"
   ]
  },
  {
   "attachments": {},
   "cell_type": "markdown",
   "metadata": {},
   "source": [
    "SELECT *\n",
    "FROM sql.kinopoisk\n",
    "WHERE year = 1999"
   ]
  },
  {
   "attachments": {},
   "cell_type": "markdown",
   "metadata": {},
   "source": [
    "SELECT\n",
    "    position,\n",
    "    movie_title,\n",
    "    year,\n",
    "    director\n",
    "FROM sql.kinopoisk\n",
    "WHERE year < 1984"
   ]
  },
  {
   "attachments": {},
   "cell_type": "markdown",
   "metadata": {},
   "source": [
    "SELECT *\n",
    "FROM sql.kinopoisk\n",
    "WHERE year <> 2000"
   ]
  },
  {
   "attachments": {},
   "cell_type": "markdown",
   "metadata": {},
   "source": [
    "SELECT *\n",
    "FROM sql.kinopoisk \n",
    "WHERE year >= 2000\n",
    "AND rating >= 8"
   ]
  },
  {
   "attachments": {},
   "cell_type": "markdown",
   "metadata": {},
   "source": [
    "SELECT *\n",
    "FROM sql.kinopoisk\n",
    "WHERE year >= 1975\n",
    "    AND year <= 1985"
   ]
  },
  {
   "attachments": {},
   "cell_type": "markdown",
   "metadata": {},
   "source": [
    "SELECT *\n",
    "FROM sql.kinopoisk\n",
    "WHERE year BETWEEN 1975 AND 1985"
   ]
  },
  {
   "attachments": {},
   "cell_type": "markdown",
   "metadata": {},
   "source": [
    "SELECT\n",
    "    director,\n",
    "    movie_title\n",
    "FROM sql.kinopoisk\n",
    "WHERE rating >= 8.5"
   ]
  },
  {
   "attachments": {},
   "cell_type": "markdown",
   "metadata": {},
   "source": [
    "SELECT *\n",
    "FROM sql.kinopoisk\n",
    "WHERE year NOT BETWEEN 1965 AND 1980"
   ]
  },
  {
   "attachments": {},
   "cell_type": "markdown",
   "metadata": {},
   "source": [
    "SELECT\n",
    "    year,\n",
    "    movie_title,\n",
    "    director\n",
    "FROM sql.kinopoisk\n",
    "WHERE (rating > 8.5 AND year < 2000)\n",
    "    OR year >= 2000"
   ]
  },
  {
   "attachments": {},
   "cell_type": "markdown",
   "metadata": {},
   "source": [
    "SELECT\n",
    "    movie_title\n",
    "FROM sql.kinopoisk\n",
    "WHERE year IN (2000, 1985, 1939)"
   ]
  },
  {
   "attachments": {},
   "cell_type": "markdown",
   "metadata": {},
   "source": [
    "SELECT *\n",
    "FROM sql.kinopoisk\n",
    "WHERE director = 'Леонид Гайдай'"
   ]
  },
  {
   "attachments": {},
   "cell_type": "markdown",
   "metadata": {},
   "source": [
    "SELECT *\n",
    "FROM sql.kinopoisk\n",
    "WHERE movie_title LIKE 'А%'"
   ]
  },
  {
   "attachments": {},
   "cell_type": "markdown",
   "metadata": {},
   "source": [
    "SELECT\n",
    "    movie_title,\n",
    "    year\n",
    "FROM sql.kinopoisk\n",
    "WHERE director LIKE 'Дэвид%' AND rating > 8"
   ]
  },
  {
   "attachments": {},
   "cell_type": "markdown",
   "metadata": {},
   "source": [
    "SELECT *\n",
    "FROM sql.kinopoisk\n",
    "WHERE overview IS NULL"
   ]
  },
  {
   "attachments": {},
   "cell_type": "markdown",
   "metadata": {},
   "source": [
    "Сортировка"
   ]
  },
  {
   "attachments": {},
   "cell_type": "markdown",
   "metadata": {},
   "source": [
    "SELECT *\n",
    "FROM sql.kinopoisk\n",
    "ORDER BY movie_title"
   ]
  },
  {
   "attachments": {},
   "cell_type": "markdown",
   "metadata": {},
   "source": [
    "SELECT *\n",
    "FROM sql.kinopoisk\n",
    "ORDER BY rating"
   ]
  },
  {
   "attachments": {},
   "cell_type": "markdown",
   "metadata": {},
   "source": [
    "SELECT\n",
    "    movie_title,\n",
    "    director,\n",
    "    screenwriter,\n",
    "    year\n",
    "FROM sql.kinopoisk\n",
    "WHERE country = 'СССР'\n",
    "ORDER BY rating DESC"
   ]
  },
  {
   "attachments": {},
   "cell_type": "markdown",
   "metadata": {},
   "source": [
    "SELECT\n",
    "    movie_title,\n",
    "    rating,\n",
    "    overview,\n",
    "    year\n",
    "FROM sql.kinopoisk\n",
    "ORDER BY overview"
   ]
  },
  {
   "attachments": {},
   "cell_type": "markdown",
   "metadata": {},
   "source": [
    "SELECT\n",
    "    director,\n",
    "    movie_title\n",
    "FROM sql.kinopoisk\n",
    "ORDER BY year, rating DESC"
   ]
  },
  {
   "attachments": {},
   "cell_type": "markdown",
   "metadata": {},
   "source": [
    "SELECT\n",
    "    director,\n",
    "    movie_title,\n",
    "    year\n",
    "FROM sql.kinopoisk\n",
    "ORDER BY 1, 3 DESC"
   ]
  },
  {
   "attachments": {},
   "cell_type": "markdown",
   "metadata": {},
   "source": [
    "SELECT *\n",
    "FROM sql.kinopoisk\n",
    "LIMIT 10"
   ]
  },
  {
   "attachments": {},
   "cell_type": "markdown",
   "metadata": {},
   "source": [
    "SELECT\n",
    "    movie_title,\n",
    "    rating\n",
    "FROM sql.kinopoisk \n",
    "ORDER BY rating DESC\n",
    "LIMIT 5"
   ]
  },
  {
   "attachments": {},
   "cell_type": "markdown",
   "metadata": {},
   "source": [
    "Агрегатные функции"
   ]
  },
  {
   "attachments": {},
   "cell_type": "markdown",
   "metadata": {},
   "source": [
    "sql.pokemon\n",
    "id\tуникальный идентификатор\n",
    "name\tимя\n",
    "type1\tосновной тип\n",
    "type2\tдополнительный тип\n",
    "hp\tколичество очков здоровья\n",
    "attack\tпоказатели атаки\n",
    "defense\tпоказатели защиты\n",
    "speed\tпоказатели скорости"
   ]
  },
  {
   "attachments": {},
   "cell_type": "markdown",
   "metadata": {},
   "source": [
    "SELECT DISTINCT\n",
    "    type1\n",
    "FROM sql.pokemon"
   ]
  },
  {
   "attachments": {},
   "cell_type": "markdown",
   "metadata": {},
   "source": [
    "SELECT DISTINCT\n",
    "    type1,\n",
    "    type2\n",
    "FROM sql.pokemon"
   ]
  },
  {
   "cell_type": "code",
   "execution_count": null,
   "metadata": {},
   "outputs": [],
   "source": [
    "SELECT\n",
    "    COUNT(*)\n",
    "FROM sql.pokemon\n",
    "#COUNT считает строки, а звёздочка (*) в аргументе функции означает, что считаются все строки, которые возвращает запрос.\n",
    "#Если в аргументе функции указать название столбца, функция обработает только строки с непустым значением."
   ]
  },
  {
   "cell_type": "code",
   "execution_count": null,
   "metadata": {},
   "outputs": [],
   "source": [
    "SELECT\n",
    "    COUNT(type2)\n",
    "FROM sql.pokemon"
   ]
  },
  {
   "cell_type": "code",
   "execution_count": null,
   "metadata": {},
   "outputs": [],
   "source": [
    "SELECT\n",
    "    COUNT(DISTINCT type1)\n",
    "FROM sql.pokemon"
   ]
  },
  {
   "cell_type": "code",
   "execution_count": null,
   "metadata": {},
   "outputs": [],
   "source": [
    "SELECT\n",
    "    COUNT(*) AS \"всего травяных покемонов\",\n",
    "    COUNT(type2) AS \"покемонов с дополнительным типом\",\n",
    "    AVG(attack) AS \"средняя атака\",\n",
    "    AVG(defense) AS \"средняя защита\"\n",
    "FROM sql.pokemon\n",
    "WHERE type1 = 'Grass'"
   ]
  },
  {
   "cell_type": "code",
   "execution_count": null,
   "metadata": {},
   "outputs": [],
   "source": [
    "SELECT\n",
    "    type1 AS pokemon_type,\n",
    "    COUNT(*) AS pokemon_count\n",
    "FROM sql.pokemon\n",
    "GROUP BY type1\n",
    "ORDER BY type1"
   ]
  },
  {
   "cell_type": "code",
   "execution_count": null,
   "metadata": {},
   "outputs": [],
   "source": [
    "SELECT\n",
    "    type1 AS pokemon_type,\n",
    "    COUNT(*) AS pokemon_count\n",
    "FROM sql.pokemon\n",
    "GROUP BY pokemon_type\n",
    "ORDER BY COUNT(*) DESC"
   ]
  },
  {
   "cell_type": "code",
   "execution_count": null,
   "metadata": {},
   "outputs": [],
   "source": [
    "SELECT\n",
    "    type1 AS primary_type,\n",
    "    type2 AS additional_type,\n",
    "    COUNT(*) AS pokemon_count\n",
    "FROM sql.pokemon\n",
    "GROUP BY 1, 2\n",
    "ORDER BY 1, 2 NULLS FIRST"
   ]
  },
  {
   "cell_type": "code",
   "execution_count": null,
   "metadata": {},
   "outputs": [],
   "source": [
    "SELECT\n",
    "    type1 AS primary_type,\n",
    "    AVG(attack) AS avg_attack\n",
    "FROM sql.pokemon\n",
    "GROUP BY primary_type \n",
    "HAVING AVG(attack) > 90"
   ]
  },
  {
   "cell_type": "code",
   "execution_count": null,
   "metadata": {},
   "outputs": [],
   "source": [
    "SELECT\n",
    "    type1 AS primary_type\n",
    "FROM sql.pokemon\n",
    "GROUP BY primary_type \n",
    "HAVING AVG(attack) > 90\n",
    "#Выведет те же типы покемонов как и в ячейке вышеЮ, но без данных о средней атаки (Но она будет >90)"
   ]
  },
  {
   "cell_type": "code",
   "execution_count": null,
   "metadata": {},
   "outputs": [],
   "source": [
    "#Общий вид оператора SELECT\n",
    "SELECT [ALL | DISTINCT] список_столбцов|*\n",
    "FROM список_имён_таблиц\n",
    "[WHERE условие_поиска]\n",
    "[GROUP BY список_имён_столбцов]\n",
    "[HAVING условие_поиска]\n",
    "[ORDER BY имя_столбца [ASC | DESC],…]"
   ]
  },
  {
   "cell_type": "code",
   "execution_count": null,
   "metadata": {},
   "outputs": [],
   "source": [
    "SELECT\n",
    "    столбец1 AS новое_название,\n",
    "    столбец2,\n",
    "    АГРЕГАТ(столбец3)\n",
    "FROM таблица\n",
    "WHERE (условие1 OR условие2)\n",
    "    AND условие3\n",
    "GROUP BY столбец1, столбец2\n",
    "HAVING АГРЕГАТ(столбец3) > 5\n",
    "ORDER BY сортировка1, сортировка2\n",
    "OFFSET 1 LIMIT 2"
   ]
  },
  {
   "attachments": {},
   "cell_type": "markdown",
   "metadata": {},
   "source": [
    "Объединение таблиц"
   ]
  },
  {
   "attachments": {},
   "cell_type": "markdown",
   "metadata": {},
   "source": [
    "Данные\n",
    "\n",
    "\n",
    "Таблица teams\n",
    "\n",
    "id\tid команды\n",
    "\n",
    "api_id\tключ на таблицу matches\n",
    "\n",
    "long_name\tполное название команды\n",
    "\n",
    "short_name\tсокращённое название команды\n",
    "\n",
    "/\n",
    "\n",
    "Таблица matches\n",
    "\n",
    "id\tid матча\n",
    "\n",
    "season\tсезон\n",
    "\n",
    "date\tдата матча\n",
    "\n",
    "home_team_api_id\tapi_id домашней команды, ключ на таблицу teams\n",
    "\n",
    "away_team_api_id\tapi_id гостевой команды, ключ на таблицу teams\n",
    "\n",
    "home_team_goals\tколичество голов домашней команды\n",
    "\n",
    "away_team_goals\tколичество голов гостевой команды"
   ]
  },
  {
   "cell_type": "code",
   "execution_count": null,
   "metadata": {},
   "outputs": [],
   "source": [
    "SELECT *\n",
    "FROM\n",
    "    sql.teams,\n",
    "    sql.matches\n",
    "#Будет выполнено декартовое произведение таблиц"
   ]
  },
  {
   "cell_type": "code",
   "execution_count": null,
   "metadata": {},
   "outputs": [],
   "source": [
    "SELECT \n",
    "    long_name, \n",
    "    home_team_goals,\n",
    "    away_team_goals\n",
    "FROM\n",
    "    sql.teams,\n",
    "    sql.matches\n",
    "WHERE home_team_api_id = api_id"
   ]
  },
  {
   "cell_type": "code",
   "execution_count": null,
   "metadata": {},
   "outputs": [],
   "source": [
    "SELECT \n",
    "    long_name,\n",
    "    home_team_goals,\n",
    "    away_team_goals\n",
    "FROM    \n",
    "    sql.teams\n",
    "JOIN sql.matches on home_team_api_id = api_id"
   ]
  },
  {
   "cell_type": "code",
   "execution_count": null,
   "metadata": {},
   "outputs": [],
   "source": [
    "SELECT\n",
    "    teams.id\n",
    "FROM \n",
    "    sql.teams\n",
    "JOIN sql.matches ON home_team_api_id = api_id"
   ]
  },
  {
   "cell_type": "code",
   "execution_count": null,
   "metadata": {},
   "outputs": [],
   "source": [
    "SELECT\n",
    "    matches.id\n",
    "FROM \n",
    "    sql.teams\n",
    "JOIN sql.matches on home_team_api_id = api_id"
   ]
  },
  {
   "cell_type": "code",
   "execution_count": null,
   "metadata": {},
   "outputs": [],
   "source": [
    "SELECT\n",
    "    h.long_name \"домашняя команда\",\n",
    "    m.home_team_goals \"голы домашней команды\",\n",
    "    m.away_team_goals \"голы гостевой команды\",\n",
    "    a.long_name \"гостевая команда\" \n",
    "FROM\n",
    "    sql.matches m\n",
    "    JOIN sql.teams h ON m.home_team_api_id = h.api_id\n",
    "    JOIN sql.teams a ON m.away_team_api_id = a.api_id"
   ]
  },
  {
   "cell_type": "code",
   "execution_count": null,
   "metadata": {},
   "outputs": [],
   "source": [
    "SELECT \n",
    "    m.id\n",
    "FROM\n",
    "    sql.teams t\n",
    "    JOIN sql.matches m ON m.away_team_api_id = t.api_id\n",
    "WHERE long_name = 'Arsenal'"
   ]
  },
  {
   "cell_type": "code",
   "execution_count": null,
   "metadata": {},
   "outputs": [],
   "source": [
    "SELECT \n",
    "\tm.id id_1,\n",
    "\tm.season,\n",
    "\tt.id id_2,\n",
    "\tt.long_name\n",
    "FROM\n",
    "\tsql.teams t\n",
    "JOIN sql.matches m ON m.away_team_api_id = t.api_id"
   ]
  },
  {
   "cell_type": "code",
   "execution_count": null,
   "metadata": {},
   "outputs": [],
   "source": [
    "SELECT *\n",
    "FROM    \n",
    "    sql.matches m\n",
    "    JOIN sql.teams t on t.api_id = m.home_team_api_id\n",
    "WHERE\n",
    "    t.short_name = 'GEN'\n",
    "    AND m.season = '2008/2009'"
   ]
  },
  {
   "cell_type": "code",
   "execution_count": null,
   "metadata": {},
   "outputs": [],
   "source": [
    "SELECT\n",
    "    t.long_name,\n",
    "    SUM(m.home_team_goals) + SUM(m.away_team_goals) match_goals\n",
    "FROM\n",
    "    sql.matches m\n",
    "    JOIN sql.teams t ON m.away_team_api_id = t.api_id \n",
    "GROUP BY t.id"
   ]
  },
  {
   "cell_type": "code",
   "execution_count": null,
   "metadata": {},
   "outputs": [],
   "source": [
    "SELECT\n",
    "    m.season,\n",
    "    SUM(m.home_team_goals) + SUM(m.away_team_goals) total_goals\n",
    "FROM sql.matches m\n",
    "GROUP BY m.season"
   ]
  },
  {
   "cell_type": "code",
   "execution_count": null,
   "metadata": {},
   "outputs": [],
   "source": [
    "SELECT\n",
    "    m.season,\n",
    "    t.long_name,\n",
    "    SUM(m.home_team_goals) + SUM(m.away_team_goals) total_goals\n",
    "FROM sql.matches m\n",
    "JOIN sql.teams t ON t.api_id = m.home_team_api_id OR t.api_id = m.away_team_api_id\n",
    "GROUP BY m.season, t.id\n",
    "HAVING SUM(m.home_team_goals) + SUM(m.away_team_goals) > 100"
   ]
  },
  {
   "cell_type": "code",
   "execution_count": null,
   "metadata": {},
   "outputs": [],
   "source": [
    "SELECT\n",
    "    t.long_name,\n",
    "    m.id\n",
    "FROM sql.teams t\n",
    "LEFT JOIN sql.matches m ON t.api_id = m.home_team_api_id OR t.api_id = m.away_team_api_id\n",
    "ORDER BY m.id DESC"
   ]
  },
  {
   "cell_type": "code",
   "execution_count": null,
   "metadata": {},
   "outputs": [],
   "source": [
    "SELECT\n",
    "    t.long_name\n",
    "FROM \n",
    "    sql.teams t\n",
    "LEFT JOIN sql.matches m ON t.api_id = m.home_team_api_id OR t.api_id = m.away_team_api_id\n",
    "WHERE m.id IS NULL"
   ]
  },
  {
   "cell_type": "code",
   "execution_count": null,
   "metadata": {},
   "outputs": [],
   "source": [
    "SELECT\n",
    "    t.long_name,\n",
    "    SUM(m.away_team_goals) total_goals\n",
    "FROM   \n",
    "    sql.teams t\n",
    "LEFT JOIN sql.matches m ON t.api_id = m.away_team_api_id\n",
    "GROUP BY t.id\n",
    "ORDER BY 2 DESC"
   ]
  },
  {
   "cell_type": "code",
   "execution_count": null,
   "metadata": {},
   "outputs": [],
   "source": [
    "SELECT *\n",
    "FROM\n",
    "    sql.teams\n",
    "    CROSS JOIN sql.matches"
   ]
  },
  {
   "cell_type": "code",
   "execution_count": null,
   "metadata": {},
   "outputs": [],
   "source": [
    "SELECT *\n",
    "FROM\n",
    "    sql.teams\n",
    "    JOIN sql.matches ON TRUE"
   ]
  },
  {
   "cell_type": "code",
   "execution_count": null,
   "metadata": {},
   "outputs": [],
   "source": [
    "SELECT\n",
    "    DISTINCT\n",
    "    t1.long_name home_team, \n",
    "    t2.long_name away_team\n",
    "FROM\n",
    "    sql.teams t1\n",
    "    CROSS JOIN sql.teams t2"
   ]
  },
  {
   "cell_type": "code",
   "execution_count": null,
   "metadata": {},
   "outputs": [],
   "source": [
    "SELECT \n",
    "…\n",
    "FROM \n",
    "         table1 \n",
    "NATURAL JOIN table2"
   ]
  },
  {
   "attachments": {},
   "cell_type": "markdown",
   "metadata": {},
   "source": [
    "Данные\n",
    "\n",
    "Интересующие нас данные хранятся в таблицах city, customer, driver, shipment, truck.\n",
    "\n",
    "Таблица city — это справочник городов.\n",
    "\n",
    "Таблица customer — это справочник клиентов.\n",
    "\n",
    "Следующая таблица — driver — справочник водителей. \n",
    "\n",
    "В таблице truck хранится информация о грузовиках, на которых осуществляются перевозки. \n",
    "\n",
    "Последняя таблица в датасете, shipment, — таблица с данными непосредственно о доставках. Она описывает взаимодействие всех перечисленных сущностей, а потому содержит наибольшее количество ссылок на другие таблицы."
   ]
  },
  {
   "cell_type": "code",
   "execution_count": null,
   "metadata": {},
   "outputs": [],
   "source": [
    "SELECT\n",
    "         c.city_id object_name, 'id города' object_type\n",
    "FROM \n",
    "         sql.city c\n",
    "\n",
    "UNION ALL\n",
    "\n",
    "SELECT\n",
    "         d.driver_id other_name, 'id водителя' other_type\n",
    "FROM \n",
    "         sql.driver d\n",
    "\n",
    "UNION ALL\n",
    "\n",
    "SELECT\n",
    "         s.ship_id, 'id доставки'\n",
    "FROM \n",
    "         sql.shipment s\n",
    "\n",
    "UNION ALL\n",
    "\n",
    "SELECT\n",
    "         c.cust_id, 'id клиента'\n",
    "FROM \n",
    "         sql.customer c\n",
    "\n",
    "UNION ALL\n",
    "\n",
    "SELECT\n",
    "         t.truck_id, 'id грузовика'\n",
    "FROM \n",
    "         sql.truck t\n",
    "ORDER BY 1"
   ]
  },
  {
   "cell_type": "code",
   "execution_count": null,
   "metadata": {},
   "outputs": [],
   "source": [
    "(SELECT book_name object_name, 'книга' object_descritption \n",
    "FROM public.books\n",
    "ORDER BY 1\n",
    "LIMIT 1)\n",
    "UNION ALL\n",
    "(SELECT movie_title, 'фильм' \n",
    "FROM sql.kinopoisk\n",
    "ORDER BY 1\n",
    "LIMIT 1)"
   ]
  },
  {
   "cell_type": "code",
   "execution_count": null,
   "metadata": {},
   "outputs": [],
   "source": [
    "SELECT \n",
    "         c.city_id::text\n",
    "FROM\n",
    "         sql.city c\n",
    "\n",
    "UNION ALL\n",
    "\n",
    "SELECT \n",
    "         cc.city_name\n",
    "FROM\n",
    "         sql.city cc"
   ]
  },
  {
   "cell_type": "code",
   "execution_count": null,
   "metadata": {},
   "outputs": [],
   "source": [
    "SELECT\n",
    "         c.city_name,\n",
    "         c.population\n",
    "FROM\n",
    "         sql.city c\n",
    "\n",
    "UNION ALL\n",
    "\n",
    "SELECT\n",
    "         'total',\n",
    "         SUM(c.population)\n",
    "FROM\n",
    "         sql.city c\n",
    "ORDER BY 2 DESC"
   ]
  },
  {
   "cell_type": "code",
   "execution_count": null,
   "metadata": {},
   "outputs": [],
   "source": [
    "SELECT\n",
    "         d.first_name,\n",
    "         d.last_name,\n",
    "         'телефон заполнен' phone_info\n",
    "FROM\n",
    "         sql.driver d\n",
    "WHERE d.phone IS NOT NULL\n",
    "\n",
    "UNION\n",
    "\n",
    "SELECT\n",
    "         d.first_name,\n",
    "         d.last_name,\n",
    "         'телефон не заполнен' phone_info\n",
    "FROM\n",
    "         sql.driver d\n",
    "WHERE d.phone IS NULL"
   ]
  },
  {
   "cell_type": "code",
   "execution_count": null,
   "metadata": {},
   "outputs": [],
   "source": [
    "SELECT \n",
    "         'a' letter,'1' ordinal_position\n",
    "\n",
    "UNION \n",
    "\n",
    "SELECT \n",
    "         'b','2'\n",
    "\n",
    "UNION \n",
    "\n",
    "SELECT\n",
    "         'c','3'"
   ]
  },
  {
   "cell_type": "code",
   "execution_count": null,
   "metadata": {},
   "outputs": [],
   "source": [
    "SELECT 1000000 number\n",
    "UNION\n",
    "SELECT 541\n",
    "UNION\n",
    "SELECT -500\n",
    "UNION\n",
    "SELECT 100\n",
    "ORDER BY number DESC\n",
    "LIMIT 1\n"
   ]
  },
  {
   "cell_type": "code",
   "execution_count": null,
   "metadata": {},
   "outputs": [],
   "source": [
    "SELECT\n",
    "         c.city_name\n",
    "FROM\n",
    "         sql.shipment s\n",
    "JOIN sql.city c ON s.city_id = c.city_id\n",
    "\n",
    "EXCEPT\n",
    "\n",
    "SELECT\n",
    "         cc.city_name\n",
    "FROM\n",
    "         sql.driver d \n",
    "JOIN sql.city cc ON d.city_id=cc.city_id\n",
    "ORDER BY 1"
   ]
  },
  {
   "cell_type": "code",
   "execution_count": null,
   "metadata": {},
   "outputs": [],
   "source": [
    "SELECT \n",
    "         c.city_name object_name\n",
    "FROM \n",
    "         sql.city c\n",
    "\n",
    "INTERSECT\n",
    "\n",
    "SELECT \n",
    "         cc.state\n",
    "FROM \n",
    "         sql.city cc\n",
    "ORDER BY 1"
   ]
  },
  {
   "cell_type": "code",
   "execution_count": null,
   "metadata": {},
   "outputs": [],
   "source": [
    "(select \n",
    "c.city_name,\n",
    "s.weight\n",
    "from sql.shipment s\n",
    "join sql.city c ON s.city_id=c.city_id \n",
    "order by weight desc\n",
    "limit 1)\n",
    "union all\n",
    "(select \n",
    "c.city_name,\n",
    "s.weight\n",
    "from sql.shipment s\n",
    "join sql.city c ON s.city_id=c.city_id \n",
    "order by weight\n",
    "limit 1)"
   ]
  },
  {
   "cell_type": "code",
   "execution_count": null,
   "metadata": {},
   "outputs": [],
   "source": [
    "select cust_id mutual_id\n",
    "from sql.customer\n",
    "intersect\n",
    "select ship_id\n",
    "from sql.shipment\n",
    "order by mutual_id"
   ]
  },
  {
   "cell_type": "code",
   "execution_count": null,
   "metadata": {},
   "outputs": [],
   "source": [
    "select cust_name object_name,\n",
    "'КЛИЕНТ' object_description\n",
    "from sql.customer\n",
    "where cust_type='manufacturer'\n",
    "union\n",
    "select make,\n",
    "'ГРУЗОВИК'\n",
    "from sql.truck\n",
    "order by object_name"
   ]
  },
  {
   "attachments": {},
   "cell_type": "markdown",
   "metadata": {},
   "source": [
    "Типы данных"
   ]
  },
  {
   "cell_type": "code",
   "execution_count": null,
   "metadata": {},
   "outputs": [],
   "source": [
    "SELECT CURRENT_TIMESTAMP"
   ]
  },
  {
   "cell_type": "code",
   "execution_count": null,
   "metadata": {},
   "outputs": [],
   "source": [
    "SELECT NOW()"
   ]
  },
  {
   "cell_type": "code",
   "execution_count": null,
   "metadata": {},
   "outputs": [],
   "source": [
    "show timezone"
   ]
  },
  {
   "cell_type": "code",
   "execution_count": null,
   "metadata": {},
   "outputs": [],
   "source": [
    "select now() at time zone 'Europe/Moscow'"
   ]
  },
  {
   "cell_type": "code",
   "execution_count": null,
   "metadata": {},
   "outputs": [],
   "source": [
    "select CURRENT_DATE"
   ]
  },
  {
   "cell_type": "code",
   "execution_count": null,
   "metadata": {},
   "outputs": [],
   "source": [
    "select now()::date"
   ]
  },
  {
   "cell_type": "code",
   "execution_count": null,
   "metadata": {},
   "outputs": [],
   "source": [
    "with x as \n",
    "(\n",
    "select '2018-12-31 21:00:00+00'::timestamp with time zone ts\n",
    ")\n",
    "select (ts at time zone 'Europe/Moscow')::date as dt_msk,\n",
    "(ts at time zone 'UTC')::date as dt_utc\n",
    "from x"
   ]
  },
  {
   "cell_type": "code",
   "execution_count": null,
   "metadata": {},
   "outputs": [],
   "source": [
    "select extract (year from ship_date) year_n,\n",
    "extract (month from ship_date) month_n,\n",
    "count(ship_id) qty\n",
    "from sql.shipment\n",
    "group by year_n, month_n\n",
    "order by year_n, month_n"
   ]
  },
  {
   "cell_type": "code",
   "execution_count": null,
   "metadata": {},
   "outputs": [],
   "source": [
    "select to_char(now(),'\"Hello! Today is\" DAY yyyy-Mon-dd')"
   ]
  },
  {
   "cell_type": "code",
   "execution_count": null,
   "metadata": {},
   "outputs": [],
   "source": [
    "select date_trunc('minute',now())"
   ]
  },
  {
   "cell_type": "code",
   "execution_count": null,
   "metadata": {},
   "outputs": [],
   "source": [
    "select (date_trunc('quarter', ship_date))::date q,\n",
    "SUM(weight)  total_weight\n",
    "from sql.shipment\n",
    "group by q\n",
    "order by q"
   ]
  },
  {
   "cell_type": "code",
   "execution_count": null,
   "metadata": {},
   "outputs": [],
   "source": [
    "select '2019-01-01'::date + 10"
   ]
  },
  {
   "cell_type": "code",
   "execution_count": null,
   "metadata": {},
   "outputs": [],
   "source": [
    "select '2019-02-10'::date - '2017-03-01'::date"
   ]
  },
  {
   "cell_type": "code",
   "execution_count": null,
   "metadata": {},
   "outputs": [],
   "source": [
    "select c.city_name,\n",
    "(max(s.ship_date) - min(s.ship_date)) days_active\n",
    "from sql.shipment s\n",
    "left join sql.city c on s.city_id=c.city_id\n",
    "group by city_name\n",
    "order by city_name, days_active"
   ]
  },
  {
   "cell_type": "code",
   "execution_count": null,
   "metadata": {},
   "outputs": [],
   "source": [
    "select 'select * from '||t.table_schema||'.'||t.table_name||';' query\n",
    "from information_schema.tables t\n",
    "where table_schema = 'shipping'"
   ]
  },
  {
   "cell_type": "code",
   "execution_count": null,
   "metadata": {},
   "outputs": [],
   "source": [
    "select ('Ваш заказ доставит водитель '||first_name||' '||last_name||'. Его контактный номер: '||COALESCE(phone,'-')) AS msg\n",
    "from sql.driver"
   ]
  },
  {
   "cell_type": "code",
   "execution_count": null,
   "metadata": {},
   "outputs": [],
   "source": [
    "select c.cust_id,\n",
    "lower(c.cust_name) cust_name\n",
    "from sql.shipment s\n",
    "left join sql.customer c on s.cust_id=c.cust_id\n",
    "group by 1\n",
    "having count(s.ship_id) > 10\n",
    "order by 1"
   ]
  },
  {
   "cell_type": "code",
   "execution_count": null,
   "metadata": {},
   "outputs": [],
   "source": [
    "select replace('малако','а','о')"
   ]
  },
  {
   "cell_type": "code",
   "execution_count": null,
   "metadata": {},
   "outputs": [],
   "source": [
    "select replace('Hello, world!',', world','')"
   ]
  },
  {
   "cell_type": "code",
   "execution_count": null,
   "metadata": {},
   "outputs": [],
   "source": [
    "SELECT\n",
    "    lower(replace(state, ' ','_'))||'__'||lower(replace(city_name,' ','_')) utm\n",
    "FROM sql.city\n",
    "ORDER BY 1"
   ]
  },
  {
   "cell_type": "code",
   "execution_count": null,
   "metadata": {},
   "outputs": [],
   "source": [
    "with t as\n",
    "(\n",
    "select 'Один два три'::text sample_string\n",
    ")\n",
    "select \n",
    " left(t.sample_string,4) one,\n",
    " right(left(t.sample_string,8),3) two,\n",
    " right(t.sample_string,3) three\n",
    "from t"
   ]
  },
  {
   "cell_type": "code",
   "execution_count": null,
   "metadata": {},
   "outputs": [],
   "source": [
    "select\n",
    "     left(c.state, 4) code,\n",
    "     count(distinct (c.state, 4)) qty\n",
    "from\n",
    "    sql.city c\n",
    "group by 1\n",
    "having count(distinct (c.state, 4))>1"
   ]
  },
  {
   "cell_type": "code",
   "execution_count": null,
   "metadata": {},
   "outputs": [],
   "source": [
    "select format('driver_id = %s, first_name = %s, last_name = %s, address = %s, zip_code = %s, phone = %s, city_id = %s', \n",
    "              driver_id, first_name, last_name, address, zip_code, phone, city_id) from shipping.driver d"
   ]
  },
  {
   "cell_type": "code",
   "execution_count": null,
   "metadata": {},
   "outputs": [],
   "source": [
    "SELECT\n",
    "   FORMAT($$%s is located in %s. There's %s people living there. Its area is %s$$,city_name,state,population,area) AS str\n",
    "FROM sql.city\n",
    "ORDER BY city_name"
   ]
  }
 ],
 "metadata": {
  "kernelspec": {
   "display_name": "ds_sf",
   "language": "python",
   "name": "python3"
  },
  "language_info": {
   "name": "python",
   "version": "3.11.0 (main, Oct 24 2022, 18:26:48) [MSC v.1933 64 bit (AMD64)]"
  },
  "orig_nbformat": 4,
  "vscode": {
   "interpreter": {
    "hash": "b652b39f8624a80254c28c91065ea4371f307577f3b47ec3ffa8a2db76ae3679"
   }
  }
 },
 "nbformat": 4,
 "nbformat_minor": 2
}
