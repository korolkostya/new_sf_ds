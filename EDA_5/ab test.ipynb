{
 "cells": [
  {
   "cell_type": "code",
   "execution_count": 3,
   "metadata": {},
   "outputs": [],
   "source": [
    "import pandas as pd\n",
    "import matplotlib.pyplot as plt\n",
    "import seaborn as sns"
   ]
  },
  {
   "cell_type": "code",
   "execution_count": 4,
   "metadata": {},
   "outputs": [
    {
     "data": {
      "text/html": [
       "<div>\n",
       "<style scoped>\n",
       "    .dataframe tbody tr th:only-of-type {\n",
       "        vertical-align: middle;\n",
       "    }\n",
       "\n",
       "    .dataframe tbody tr th {\n",
       "        vertical-align: top;\n",
       "    }\n",
       "\n",
       "    .dataframe thead th {\n",
       "        text-align: right;\n",
       "    }\n",
       "</style>\n",
       "<table border=\"1\" class=\"dataframe\">\n",
       "  <thead>\n",
       "    <tr style=\"text-align: right;\">\n",
       "      <th></th>\n",
       "      <th>user_id</th>\n",
       "      <th>timestamp</th>\n",
       "      <th>group</th>\n",
       "      <th>converted</th>\n",
       "    </tr>\n",
       "  </thead>\n",
       "  <tbody>\n",
       "    <tr>\n",
       "      <th>0</th>\n",
       "      <td>851104</td>\n",
       "      <td>2017-01-21</td>\n",
       "      <td>A</td>\n",
       "      <td>0</td>\n",
       "    </tr>\n",
       "    <tr>\n",
       "      <th>1</th>\n",
       "      <td>804228</td>\n",
       "      <td>2017-01-12</td>\n",
       "      <td>A</td>\n",
       "      <td>0</td>\n",
       "    </tr>\n",
       "    <tr>\n",
       "      <th>2</th>\n",
       "      <td>661590</td>\n",
       "      <td>2017-01-11</td>\n",
       "      <td>B</td>\n",
       "      <td>0</td>\n",
       "    </tr>\n",
       "    <tr>\n",
       "      <th>3</th>\n",
       "      <td>853541</td>\n",
       "      <td>2017-01-08</td>\n",
       "      <td>B</td>\n",
       "      <td>0</td>\n",
       "    </tr>\n",
       "    <tr>\n",
       "      <th>4</th>\n",
       "      <td>864975</td>\n",
       "      <td>2017-01-21</td>\n",
       "      <td>A</td>\n",
       "      <td>1</td>\n",
       "    </tr>\n",
       "  </tbody>\n",
       "</table>\n",
       "</div>"
      ],
      "text/plain": [
       "   user_id   timestamp group  converted\n",
       "0   851104  2017-01-21     A          0\n",
       "1   804228  2017-01-12     A          0\n",
       "2   661590  2017-01-11     B          0\n",
       "3   853541  2017-01-08     B          0\n",
       "4   864975  2017-01-21     A          1"
      ]
     },
     "execution_count": 4,
     "metadata": {},
     "output_type": "execute_result"
    }
   ],
   "source": [
    "ab_data = pd.read_csv('data/ab_data.csv')\n",
    "ab_data.head()"
   ]
  },
  {
   "attachments": {},
   "cell_type": "markdown",
   "metadata": {},
   "source": [
    "* user_id - идентификатор пользователя, зашедшего на сайт\n",
    "* timestamp - дата события\n",
    "* group - группа теста (контрольная или тестовая)\n",
    "* converted - \tсовершил пользователь целевое действие (нажатие кнопки «добавить в корзину» на сопутствующем товаре) или нет. 1 — да, 0 — нет."
   ]
  },
  {
   "cell_type": "code",
   "execution_count": 5,
   "metadata": {},
   "outputs": [
    {
     "name": "stdout",
     "output_type": "stream",
     "text": [
      "<class 'pandas.core.frame.DataFrame'>\n",
      "RangeIndex: 290482 entries, 0 to 290481\n",
      "Data columns (total 4 columns):\n",
      " #   Column     Non-Null Count   Dtype \n",
      "---  ------     --------------   ----- \n",
      " 0   user_id    290482 non-null  int64 \n",
      " 1   timestamp  290482 non-null  object\n",
      " 2   group      290482 non-null  object\n",
      " 3   converted  290482 non-null  int64 \n",
      "dtypes: int64(2), object(2)\n",
      "memory usage: 8.9+ MB\n"
     ]
    }
   ],
   "source": [
    "ab_data.info()"
   ]
  },
  {
   "cell_type": "code",
   "execution_count": 6,
   "metadata": {},
   "outputs": [],
   "source": [
    "ab_data['timestamp'] = pd.to_datetime(ab_data['timestamp'], format='%Y-%m-%d')"
   ]
  },
  {
   "cell_type": "code",
   "execution_count": 7,
   "metadata": {},
   "outputs": [
    {
     "data": {
      "text/html": [
       "<div>\n",
       "<style scoped>\n",
       "    .dataframe tbody tr th:only-of-type {\n",
       "        vertical-align: middle;\n",
       "    }\n",
       "\n",
       "    .dataframe tbody tr th {\n",
       "        vertical-align: top;\n",
       "    }\n",
       "\n",
       "    .dataframe thead th {\n",
       "        text-align: right;\n",
       "    }\n",
       "</style>\n",
       "<table border=\"1\" class=\"dataframe\">\n",
       "  <thead>\n",
       "    <tr style=\"text-align: right;\">\n",
       "      <th></th>\n",
       "      <th>timestamp</th>\n",
       "      <th>group</th>\n",
       "      <th>users_count</th>\n",
       "      <th>converted</th>\n",
       "    </tr>\n",
       "  </thead>\n",
       "  <tbody>\n",
       "    <tr>\n",
       "      <th>0</th>\n",
       "      <td>2017-01-02</td>\n",
       "      <td>A</td>\n",
       "      <td>2851</td>\n",
       "      <td>357</td>\n",
       "    </tr>\n",
       "    <tr>\n",
       "      <th>1</th>\n",
       "      <td>2017-01-02</td>\n",
       "      <td>B</td>\n",
       "      <td>2848</td>\n",
       "      <td>339</td>\n",
       "    </tr>\n",
       "    <tr>\n",
       "      <th>2</th>\n",
       "      <td>2017-01-03</td>\n",
       "      <td>A</td>\n",
       "      <td>6584</td>\n",
       "      <td>749</td>\n",
       "    </tr>\n",
       "    <tr>\n",
       "      <th>3</th>\n",
       "      <td>2017-01-03</td>\n",
       "      <td>B</td>\n",
       "      <td>6620</td>\n",
       "      <td>754</td>\n",
       "    </tr>\n",
       "    <tr>\n",
       "      <th>4</th>\n",
       "      <td>2017-01-04</td>\n",
       "      <td>A</td>\n",
       "      <td>6573</td>\n",
       "      <td>797</td>\n",
       "    </tr>\n",
       "  </tbody>\n",
       "</table>\n",
       "</div>"
      ],
      "text/plain": [
       "   timestamp group  users_count  converted\n",
       "0 2017-01-02     A         2851        357\n",
       "1 2017-01-02     B         2848        339\n",
       "2 2017-01-03     A         6584        749\n",
       "3 2017-01-03     B         6620        754\n",
       "4 2017-01-04     A         6573        797"
      ]
     },
     "execution_count": 7,
     "metadata": {},
     "output_type": "execute_result"
    }
   ],
   "source": [
    "daily_data = ab_data.groupby(['timestamp','group']).agg({\n",
    "    'user_id':'count',\n",
    "    'converted':'sum'\n",
    "}).reset_index().rename(columns={'user_id': 'users_count'})\n",
    "daily_data.head()"
   ]
  },
  {
   "cell_type": "code",
   "execution_count": 8,
   "metadata": {},
   "outputs": [
    {
     "data": {
      "text/html": [
       "<div>\n",
       "<style scoped>\n",
       "    .dataframe tbody tr th:only-of-type {\n",
       "        vertical-align: middle;\n",
       "    }\n",
       "\n",
       "    .dataframe tbody tr th {\n",
       "        vertical-align: top;\n",
       "    }\n",
       "\n",
       "    .dataframe thead th {\n",
       "        text-align: right;\n",
       "    }\n",
       "</style>\n",
       "<table border=\"1\" class=\"dataframe\">\n",
       "  <thead>\n",
       "    <tr style=\"text-align: right;\">\n",
       "      <th></th>\n",
       "      <th>timestamp</th>\n",
       "      <th>group</th>\n",
       "      <th>users_count</th>\n",
       "      <th>converted</th>\n",
       "      <th>conversion</th>\n",
       "    </tr>\n",
       "  </thead>\n",
       "  <tbody>\n",
       "    <tr>\n",
       "      <th>0</th>\n",
       "      <td>2017-01-02</td>\n",
       "      <td>A</td>\n",
       "      <td>2851</td>\n",
       "      <td>357</td>\n",
       "      <td>12.52</td>\n",
       "    </tr>\n",
       "    <tr>\n",
       "      <th>1</th>\n",
       "      <td>2017-01-02</td>\n",
       "      <td>B</td>\n",
       "      <td>2848</td>\n",
       "      <td>339</td>\n",
       "      <td>11.90</td>\n",
       "    </tr>\n",
       "    <tr>\n",
       "      <th>2</th>\n",
       "      <td>2017-01-03</td>\n",
       "      <td>A</td>\n",
       "      <td>6584</td>\n",
       "      <td>749</td>\n",
       "      <td>11.38</td>\n",
       "    </tr>\n",
       "    <tr>\n",
       "      <th>3</th>\n",
       "      <td>2017-01-03</td>\n",
       "      <td>B</td>\n",
       "      <td>6620</td>\n",
       "      <td>754</td>\n",
       "      <td>11.39</td>\n",
       "    </tr>\n",
       "    <tr>\n",
       "      <th>4</th>\n",
       "      <td>2017-01-04</td>\n",
       "      <td>A</td>\n",
       "      <td>6573</td>\n",
       "      <td>797</td>\n",
       "      <td>12.13</td>\n",
       "    </tr>\n",
       "  </tbody>\n",
       "</table>\n",
       "</div>"
      ],
      "text/plain": [
       "   timestamp group  users_count  converted  conversion\n",
       "0 2017-01-02     A         2851        357       12.52\n",
       "1 2017-01-02     B         2848        339       11.90\n",
       "2 2017-01-03     A         6584        749       11.38\n",
       "3 2017-01-03     B         6620        754       11.39\n",
       "4 2017-01-04     A         6573        797       12.13"
      ]
     },
     "execution_count": 8,
     "metadata": {},
     "output_type": "execute_result"
    }
   ],
   "source": [
    "daily_data['conversion'] = round(daily_data['converted'] / daily_data['users_count'] * 100, 2)\n",
    "daily_data.head()"
   ]
  },
  {
   "cell_type": "code",
   "execution_count": 9,
   "metadata": {},
   "outputs": [
    {
     "data": {
      "text/html": [
       "<div>\n",
       "<style scoped>\n",
       "    .dataframe tbody tr th:only-of-type {\n",
       "        vertical-align: middle;\n",
       "    }\n",
       "\n",
       "    .dataframe tbody tr th {\n",
       "        vertical-align: top;\n",
       "    }\n",
       "\n",
       "    .dataframe thead th {\n",
       "        text-align: right;\n",
       "    }\n",
       "</style>\n",
       "<table border=\"1\" class=\"dataframe\">\n",
       "  <thead>\n",
       "    <tr style=\"text-align: right;\">\n",
       "      <th></th>\n",
       "      <th>timestamp</th>\n",
       "      <th>group</th>\n",
       "      <th>users_count</th>\n",
       "      <th>converted</th>\n",
       "      <th>conversion</th>\n",
       "    </tr>\n",
       "  </thead>\n",
       "  <tbody>\n",
       "    <tr>\n",
       "      <th>6</th>\n",
       "      <td>2017-01-05</td>\n",
       "      <td>A</td>\n",
       "      <td>6419</td>\n",
       "      <td>791</td>\n",
       "      <td>12.32</td>\n",
       "    </tr>\n",
       "    <tr>\n",
       "      <th>7</th>\n",
       "      <td>2017-01-05</td>\n",
       "      <td>B</td>\n",
       "      <td>6509</td>\n",
       "      <td>743</td>\n",
       "      <td>11.41</td>\n",
       "    </tr>\n",
       "  </tbody>\n",
       "</table>\n",
       "</div>"
      ],
      "text/plain": [
       "   timestamp group  users_count  converted  conversion\n",
       "6 2017-01-05     A         6419        791       12.32\n",
       "7 2017-01-05     B         6509        743       11.41"
      ]
     },
     "execution_count": 9,
     "metadata": {},
     "output_type": "execute_result"
    }
   ],
   "source": [
    "daily_data[daily_data['timestamp'] == '2017-01-05']"
   ]
  },
  {
   "cell_type": "code",
   "execution_count": 10,
   "metadata": {},
   "outputs": [
    {
     "data": {
      "image/png": "[encoded data removed]",
      "text/plain": [
       "<Figure size 800x400 with 1 Axes>"
      ]
     },
     "metadata": {},
     "output_type": "display_data"
    }
   ],
   "source": [
    "# создаём фигуру размером 8x4\n",
    "fig = plt.figure(figsize=(8, 4)) \n",
    "# добавляем систему координат\n",
    "ax = fig.add_axes([1, 1, 1, 1]) \n",
    "# строим boxplot для conversion по признаку group\n",
    "sns.boxplot(data=daily_data, x='conversion', y='group', ax=ax) \n",
    "# задаём подпись к графику\n",
    "ax.set_title('Сравнение конверсии в группах')\n",
    "# задаём отображение сетки\n",
    "ax.grid(True);"
   ]
  },
  {
   "cell_type": "code",
   "execution_count": 11,
   "metadata": {},
   "outputs": [
    {
     "data": {
      "text/html": [
       "<div>\n",
       "<style scoped>\n",
       "    .dataframe tbody tr th:only-of-type {\n",
       "        vertical-align: middle;\n",
       "    }\n",
       "\n",
       "    .dataframe tbody tr th {\n",
       "        vertical-align: top;\n",
       "    }\n",
       "\n",
       "    .dataframe thead th {\n",
       "        text-align: right;\n",
       "    }\n",
       "</style>\n",
       "<table border=\"1\" class=\"dataframe\">\n",
       "  <thead>\n",
       "    <tr style=\"text-align: right;\">\n",
       "      <th></th>\n",
       "      <th>mean</th>\n",
       "      <th>median</th>\n",
       "    </tr>\n",
       "    <tr>\n",
       "      <th>group</th>\n",
       "      <th></th>\n",
       "      <th></th>\n",
       "    </tr>\n",
       "  </thead>\n",
       "  <tbody>\n",
       "    <tr>\n",
       "      <th>A</th>\n",
       "      <td>12.033478</td>\n",
       "      <td>12.02</td>\n",
       "    </tr>\n",
       "    <tr>\n",
       "      <th>B</th>\n",
       "      <td>11.872174</td>\n",
       "      <td>11.83</td>\n",
       "    </tr>\n",
       "  </tbody>\n",
       "</table>\n",
       "</div>"
      ],
      "text/plain": [
       "            mean  median\n",
       "group                   \n",
       "A      12.033478   12.02\n",
       "B      11.872174   11.83"
      ]
     },
     "metadata": {},
     "output_type": "display_data"
    }
   ],
   "source": [
    "conversion_piv = daily_data.groupby('group')['conversion'].agg(\n",
    "    ['mean', 'median']\n",
    ")\n",
    "display(conversion_piv)"
   ]
  },
  {
   "cell_type": "code",
   "execution_count": 12,
   "metadata": {},
   "outputs": [
    {
     "data": {
      "image/png": "[encoded data removed]",
      "text/plain": [
       "<Figure size 800x400 with 1 Axes>"
      ]
     },
     "metadata": {},
     "output_type": "display_data"
    }
   ],
   "source": [
    "# создаём фигуру размером 8x4\n",
    "fig = plt.figure(figsize=(8, 4))\n",
    "# добавляем систему координат\n",
    "ax = fig.add_axes([1, 1, 1, 1])\n",
    "# строим lineplot для конверсии во времени в каждой группе\n",
    "sns.lineplot(\n",
    "    data=daily_data,\n",
    "    x='timestamp',\n",
    "    y='conversion',\n",
    "    hue='group', \n",
    "    ax=ax\n",
    ")\n",
    "# задаём подпись к графику\n",
    "ax.set_title('График конверсии по дням')\n",
    "# задаём поворот меток на оси абсцисс\n",
    "ax.xaxis.set_tick_params(rotation=45)\n",
    "# задаём отображение сетки\n",
    "ax.grid(True);"
   ]
  },
  {
   "cell_type": "code",
   "execution_count": 13,
   "metadata": {},
   "outputs": [
    {
     "name": "stderr",
     "output_type": "stream",
     "text": [
      "C:\\Users\\korol\\AppData\\Local\\Temp\\ipykernel_2848\\906787284.py:4: SettingWithCopyWarning: \n",
      "A value is trying to be set on a copy of a slice from a DataFrame.\n",
      "Try using .loc[row_indexer,col_indexer] = value instead\n",
      "\n",
      "See the caveats in the documentation: https://pandas.pydata.org/pandas-docs/stable/user_guide/indexing.html#returning-a-view-versus-a-copy\n",
      "  daily_data_a.loc[:, 'cum_users_count'] = daily_data_a['users_count'].cumsum()\n"
     ]
    },
    {
     "data": {
      "text/html": [
       "<div>\n",
       "<style scoped>\n",
       "    .dataframe tbody tr th:only-of-type {\n",
       "        vertical-align: middle;\n",
       "    }\n",
       "\n",
       "    .dataframe tbody tr th {\n",
       "        vertical-align: top;\n",
       "    }\n",
       "\n",
       "    .dataframe thead th {\n",
       "        text-align: right;\n",
       "    }\n",
       "</style>\n",
       "<table border=\"1\" class=\"dataframe\">\n",
       "  <thead>\n",
       "    <tr style=\"text-align: right;\">\n",
       "      <th></th>\n",
       "      <th>timestamp</th>\n",
       "      <th>users_count</th>\n",
       "      <th>cum_users_count</th>\n",
       "    </tr>\n",
       "  </thead>\n",
       "  <tbody>\n",
       "    <tr>\n",
       "      <th>0</th>\n",
       "      <td>2017-01-02</td>\n",
       "      <td>2851</td>\n",
       "      <td>2851</td>\n",
       "    </tr>\n",
       "    <tr>\n",
       "      <th>2</th>\n",
       "      <td>2017-01-03</td>\n",
       "      <td>6584</td>\n",
       "      <td>9435</td>\n",
       "    </tr>\n",
       "    <tr>\n",
       "      <th>4</th>\n",
       "      <td>2017-01-04</td>\n",
       "      <td>6573</td>\n",
       "      <td>16008</td>\n",
       "    </tr>\n",
       "    <tr>\n",
       "      <th>6</th>\n",
       "      <td>2017-01-05</td>\n",
       "      <td>6419</td>\n",
       "      <td>22427</td>\n",
       "    </tr>\n",
       "    <tr>\n",
       "      <th>8</th>\n",
       "      <td>2017-01-06</td>\n",
       "      <td>6604</td>\n",
       "      <td>29031</td>\n",
       "    </tr>\n",
       "  </tbody>\n",
       "</table>\n",
       "</div>"
      ],
      "text/plain": [
       "   timestamp  users_count  cum_users_count\n",
       "0 2017-01-02         2851             2851\n",
       "2 2017-01-03         6584             9435\n",
       "4 2017-01-04         6573            16008\n",
       "6 2017-01-05         6419            22427\n",
       "8 2017-01-06         6604            29031"
      ]
     },
     "metadata": {},
     "output_type": "display_data"
    }
   ],
   "source": [
    "# выделяем данные группы А\n",
    "daily_data_a = daily_data[daily_data['group'] == 'A']\n",
    "# считаем кумулятивное количество посетителей\n",
    "daily_data_a.loc[:, 'cum_users_count'] = daily_data_a['users_count'].cumsum()\n",
    "# выводим время, количество посетителей и кумулятивное количество посетителей\n",
    "display(daily_data_a[['timestamp', 'users_count', 'cum_users_count']].head())"
   ]
  },
  {
   "cell_type": "code",
   "execution_count": 14,
   "metadata": {},
   "outputs": [
    {
     "data": {
      "text/html": [
       "<div>\n",
       "<style scoped>\n",
       "    .dataframe tbody tr th:only-of-type {\n",
       "        vertical-align: middle;\n",
       "    }\n",
       "\n",
       "    .dataframe tbody tr th {\n",
       "        vertical-align: top;\n",
       "    }\n",
       "\n",
       "    .dataframe thead th {\n",
       "        text-align: right;\n",
       "    }\n",
       "</style>\n",
       "<table border=\"1\" class=\"dataframe\">\n",
       "  <thead>\n",
       "    <tr style=\"text-align: right;\">\n",
       "      <th></th>\n",
       "      <th>timestamp</th>\n",
       "      <th>group</th>\n",
       "      <th>users_count</th>\n",
       "      <th>converted</th>\n",
       "      <th>conversion</th>\n",
       "      <th>cum_users_count</th>\n",
       "      <th>cum_converted</th>\n",
       "      <th>cum_conversion</th>\n",
       "    </tr>\n",
       "  </thead>\n",
       "  <tbody>\n",
       "    <tr>\n",
       "      <th>0</th>\n",
       "      <td>2017-01-02</td>\n",
       "      <td>A</td>\n",
       "      <td>2851</td>\n",
       "      <td>357</td>\n",
       "      <td>12.52</td>\n",
       "      <td>2851</td>\n",
       "      <td>357</td>\n",
       "      <td>12.521922</td>\n",
       "    </tr>\n",
       "    <tr>\n",
       "      <th>1</th>\n",
       "      <td>2017-01-02</td>\n",
       "      <td>B</td>\n",
       "      <td>2848</td>\n",
       "      <td>339</td>\n",
       "      <td>11.90</td>\n",
       "      <td>2848</td>\n",
       "      <td>339</td>\n",
       "      <td>11.903090</td>\n",
       "    </tr>\n",
       "    <tr>\n",
       "      <th>2</th>\n",
       "      <td>2017-01-03</td>\n",
       "      <td>A</td>\n",
       "      <td>6584</td>\n",
       "      <td>749</td>\n",
       "      <td>11.38</td>\n",
       "      <td>9435</td>\n",
       "      <td>1106</td>\n",
       "      <td>11.722311</td>\n",
       "    </tr>\n",
       "    <tr>\n",
       "      <th>3</th>\n",
       "      <td>2017-01-03</td>\n",
       "      <td>B</td>\n",
       "      <td>6620</td>\n",
       "      <td>754</td>\n",
       "      <td>11.39</td>\n",
       "      <td>9468</td>\n",
       "      <td>1093</td>\n",
       "      <td>11.544149</td>\n",
       "    </tr>\n",
       "    <tr>\n",
       "      <th>4</th>\n",
       "      <td>2017-01-04</td>\n",
       "      <td>A</td>\n",
       "      <td>6573</td>\n",
       "      <td>797</td>\n",
       "      <td>12.13</td>\n",
       "      <td>16008</td>\n",
       "      <td>1903</td>\n",
       "      <td>11.887806</td>\n",
       "    </tr>\n",
       "  </tbody>\n",
       "</table>\n",
       "</div>"
      ],
      "text/plain": [
       "   timestamp group  users_count  converted  conversion  cum_users_count  \\\n",
       "0 2017-01-02     A         2851        357       12.52             2851   \n",
       "1 2017-01-02     B         2848        339       11.90             2848   \n",
       "2 2017-01-03     A         6584        749       11.38             9435   \n",
       "3 2017-01-03     B         6620        754       11.39             9468   \n",
       "4 2017-01-04     A         6573        797       12.13            16008   \n",
       "\n",
       "   cum_converted  cum_conversion  \n",
       "0            357       12.521922  \n",
       "1            339       11.903090  \n",
       "2           1106       11.722311  \n",
       "3           1093       11.544149  \n",
       "4           1903       11.887806  "
      ]
     },
     "metadata": {},
     "output_type": "display_data"
    }
   ],
   "source": [
    "# вычисляем кумулятивную сумму количества посетителей\n",
    "daily_data['cum_users_count'] = daily_data.groupby(['group'])['users_count'].cumsum()\n",
    "# вычисляем кумулятивную сумму количества совершённых целевых действий\n",
    "daily_data['cum_converted'] = daily_data.groupby(['group'])['converted'].cumsum()\n",
    "# вычисляем кумулятивную конверсию\n",
    "daily_data['cum_conversion'] = daily_data['cum_converted']/daily_data['cum_users_count'] * 100\n",
    "display(daily_data.head())"
   ]
  },
  {
   "cell_type": "code",
   "execution_count": 15,
   "metadata": {},
   "outputs": [
    {
     "data": {
      "image/png": "[encoded data removed]",
      "text/plain": [
       "<Figure size 800x400 with 1 Axes>"
      ]
     },
     "metadata": {},
     "output_type": "display_data"
    }
   ],
   "source": [
    "# создаём фигуру размером 8x4\n",
    "fig = plt.figure(figsize=(8, 4))\n",
    "# добавляем систему координат\n",
    "ax = fig.add_axes([1, 1, 1, 1])\n",
    "# строим lineplot для кумулятивной конверсии во времени в каждой группе\n",
    "sns.lineplot(x='timestamp', y='cum_conversion', data=daily_data, hue='group', ax=ax)\n",
    "# задаём подпись к графику\n",
    "ax.set_title('График кумулятивной конверсии по дням')\n",
    "# задаём поворот меток на оси абсцисс\n",
    "ax.xaxis.set_tick_params(rotation = 45)\n",
    "# задаём отображение сетки\n",
    "ax.grid(True);"
   ]
  },
  {
   "cell_type": "code",
   "execution_count": 16,
   "metadata": {},
   "outputs": [
    {
     "data": {
      "text/html": [
       "<div>\n",
       "<style scoped>\n",
       "    .dataframe tbody tr th:only-of-type {\n",
       "        vertical-align: middle;\n",
       "    }\n",
       "\n",
       "    .dataframe tbody tr th {\n",
       "        vertical-align: top;\n",
       "    }\n",
       "\n",
       "    .dataframe thead th {\n",
       "        text-align: right;\n",
       "    }\n",
       "</style>\n",
       "<table border=\"1\" class=\"dataframe\">\n",
       "  <thead>\n",
       "    <tr style=\"text-align: right;\">\n",
       "      <th></th>\n",
       "      <th>date</th>\n",
       "      <th>cid</th>\n",
       "      <th>transactions</th>\n",
       "      <th>revenue</th>\n",
       "      <th>group</th>\n",
       "    </tr>\n",
       "  </thead>\n",
       "  <tbody>\n",
       "    <tr>\n",
       "      <th>0</th>\n",
       "      <td>2020-11-06</td>\n",
       "      <td>1.001648e+09</td>\n",
       "      <td>0</td>\n",
       "      <td>0</td>\n",
       "      <td>A</td>\n",
       "    </tr>\n",
       "    <tr>\n",
       "      <th>1</th>\n",
       "      <td>2020-11-06</td>\n",
       "      <td>1.001936e+09</td>\n",
       "      <td>0</td>\n",
       "      <td>0</td>\n",
       "      <td>A</td>\n",
       "    </tr>\n",
       "    <tr>\n",
       "      <th>2</th>\n",
       "      <td>2020-11-06</td>\n",
       "      <td>1.003214e+08</td>\n",
       "      <td>0</td>\n",
       "      <td>0</td>\n",
       "      <td>A</td>\n",
       "    </tr>\n",
       "    <tr>\n",
       "      <th>3</th>\n",
       "      <td>2020-11-06</td>\n",
       "      <td>1.004393e+09</td>\n",
       "      <td>0</td>\n",
       "      <td>0</td>\n",
       "      <td>A</td>\n",
       "    </tr>\n",
       "    <tr>\n",
       "      <th>4</th>\n",
       "      <td>2020-11-06</td>\n",
       "      <td>1.006382e+09</td>\n",
       "      <td>0</td>\n",
       "      <td>0</td>\n",
       "      <td>A</td>\n",
       "    </tr>\n",
       "  </tbody>\n",
       "</table>\n",
       "</div>"
      ],
      "text/plain": [
       "         date           cid  transactions  revenue group\n",
       "0  2020-11-06  1.001648e+09             0        0     A\n",
       "1  2020-11-06  1.001936e+09             0        0     A\n",
       "2  2020-11-06  1.003214e+08             0        0     A\n",
       "3  2020-11-06  1.004393e+09             0        0     A\n",
       "4  2020-11-06  1.006382e+09             0        0     A"
      ]
     },
     "execution_count": 16,
     "metadata": {},
     "output_type": "execute_result"
    }
   ],
   "source": [
    "sample_a = pd.read_csv('data/ab_test-redesign_sample_a.csv')\n",
    "sample_a.head()"
   ]
  },
  {
   "cell_type": "code",
   "execution_count": 17,
   "metadata": {},
   "outputs": [
    {
     "data": {
      "text/html": [
       "<div>\n",
       "<style scoped>\n",
       "    .dataframe tbody tr th:only-of-type {\n",
       "        vertical-align: middle;\n",
       "    }\n",
       "\n",
       "    .dataframe tbody tr th {\n",
       "        vertical-align: top;\n",
       "    }\n",
       "\n",
       "    .dataframe thead th {\n",
       "        text-align: right;\n",
       "    }\n",
       "</style>\n",
       "<table border=\"1\" class=\"dataframe\">\n",
       "  <thead>\n",
       "    <tr style=\"text-align: right;\">\n",
       "      <th></th>\n",
       "      <th>date</th>\n",
       "      <th>cid</th>\n",
       "      <th>transactions</th>\n",
       "      <th>revenue</th>\n",
       "      <th>group</th>\n",
       "    </tr>\n",
       "  </thead>\n",
       "  <tbody>\n",
       "    <tr>\n",
       "      <th>0</th>\n",
       "      <td>2020-11-06</td>\n",
       "      <td>1.000135e+09</td>\n",
       "      <td>0</td>\n",
       "      <td>0</td>\n",
       "      <td>B</td>\n",
       "    </tr>\n",
       "    <tr>\n",
       "      <th>1</th>\n",
       "      <td>2020-11-06</td>\n",
       "      <td>1.001648e+09</td>\n",
       "      <td>0</td>\n",
       "      <td>0</td>\n",
       "      <td>B</td>\n",
       "    </tr>\n",
       "    <tr>\n",
       "      <th>2</th>\n",
       "      <td>2020-11-06</td>\n",
       "      <td>1.003214e+08</td>\n",
       "      <td>0</td>\n",
       "      <td>0</td>\n",
       "      <td>B</td>\n",
       "    </tr>\n",
       "    <tr>\n",
       "      <th>3</th>\n",
       "      <td>2020-11-06</td>\n",
       "      <td>1.003652e+09</td>\n",
       "      <td>0</td>\n",
       "      <td>0</td>\n",
       "      <td>B</td>\n",
       "    </tr>\n",
       "    <tr>\n",
       "      <th>4</th>\n",
       "      <td>2020-11-06</td>\n",
       "      <td>1.003833e+09</td>\n",
       "      <td>0</td>\n",
       "      <td>0</td>\n",
       "      <td>B</td>\n",
       "    </tr>\n",
       "  </tbody>\n",
       "</table>\n",
       "</div>"
      ],
      "text/plain": [
       "         date           cid  transactions  revenue group\n",
       "0  2020-11-06  1.000135e+09             0        0     B\n",
       "1  2020-11-06  1.001648e+09             0        0     B\n",
       "2  2020-11-06  1.003214e+08             0        0     B\n",
       "3  2020-11-06  1.003652e+09             0        0     B\n",
       "4  2020-11-06  1.003833e+09             0        0     B"
      ]
     },
     "execution_count": 17,
     "metadata": {},
     "output_type": "execute_result"
    }
   ],
   "source": [
    "sample_b = pd.read_csv('data/ab_test-redesign_sample_b.csv')\n",
    "sample_b.head()"
   ]
  },
  {
   "attachments": {},
   "cell_type": "markdown",
   "metadata": {},
   "source": [
    "* date — дата наблюдения;\n",
    "* cid — идентификатор посетителя;\n",
    "* transactions — количество совершённых целевых действий (транзакций);\n",
    "* revenue — сумма покупки;\n",
    "* group — группа (тестовая — А, контрольная — B)."
   ]
  },
  {
   "cell_type": "code",
   "execution_count": 18,
   "metadata": {},
   "outputs": [
    {
     "data": {
      "text/html": [
       "<div>\n",
       "<style scoped>\n",
       "    .dataframe tbody tr th:only-of-type {\n",
       "        vertical-align: middle;\n",
       "    }\n",
       "\n",
       "    .dataframe tbody tr th {\n",
       "        vertical-align: top;\n",
       "    }\n",
       "\n",
       "    .dataframe thead th {\n",
       "        text-align: right;\n",
       "    }\n",
       "</style>\n",
       "<table border=\"1\" class=\"dataframe\">\n",
       "  <thead>\n",
       "    <tr style=\"text-align: right;\">\n",
       "      <th></th>\n",
       "      <th>date</th>\n",
       "      <th>cid</th>\n",
       "      <th>transactions</th>\n",
       "      <th>revenue</th>\n",
       "      <th>group</th>\n",
       "    </tr>\n",
       "  </thead>\n",
       "  <tbody>\n",
       "    <tr>\n",
       "      <th>0</th>\n",
       "      <td>2020-11-06</td>\n",
       "      <td>1.001648e+09</td>\n",
       "      <td>0</td>\n",
       "      <td>0</td>\n",
       "      <td>A</td>\n",
       "    </tr>\n",
       "    <tr>\n",
       "      <th>1</th>\n",
       "      <td>2020-11-06</td>\n",
       "      <td>1.001936e+09</td>\n",
       "      <td>0</td>\n",
       "      <td>0</td>\n",
       "      <td>A</td>\n",
       "    </tr>\n",
       "    <tr>\n",
       "      <th>2</th>\n",
       "      <td>2020-11-06</td>\n",
       "      <td>1.003214e+08</td>\n",
       "      <td>0</td>\n",
       "      <td>0</td>\n",
       "      <td>A</td>\n",
       "    </tr>\n",
       "    <tr>\n",
       "      <th>3</th>\n",
       "      <td>2020-11-06</td>\n",
       "      <td>1.004393e+09</td>\n",
       "      <td>0</td>\n",
       "      <td>0</td>\n",
       "      <td>A</td>\n",
       "    </tr>\n",
       "    <tr>\n",
       "      <th>4</th>\n",
       "      <td>2020-11-06</td>\n",
       "      <td>1.006382e+09</td>\n",
       "      <td>0</td>\n",
       "      <td>0</td>\n",
       "      <td>A</td>\n",
       "    </tr>\n",
       "    <tr>\n",
       "      <th>...</th>\n",
       "      <td>...</td>\n",
       "      <td>...</td>\n",
       "      <td>...</td>\n",
       "      <td>...</td>\n",
       "      <td>...</td>\n",
       "    </tr>\n",
       "    <tr>\n",
       "      <th>61378</th>\n",
       "      <td>2020-11-23</td>\n",
       "      <td>9.965675e+08</td>\n",
       "      <td>0</td>\n",
       "      <td>0</td>\n",
       "      <td>B</td>\n",
       "    </tr>\n",
       "    <tr>\n",
       "      <th>61379</th>\n",
       "      <td>2020-11-23</td>\n",
       "      <td>9.970803e+07</td>\n",
       "      <td>0</td>\n",
       "      <td>0</td>\n",
       "      <td>B</td>\n",
       "    </tr>\n",
       "    <tr>\n",
       "      <th>61380</th>\n",
       "      <td>2020-11-23</td>\n",
       "      <td>9.984814e+08</td>\n",
       "      <td>0</td>\n",
       "      <td>0</td>\n",
       "      <td>B</td>\n",
       "    </tr>\n",
       "    <tr>\n",
       "      <th>61381</th>\n",
       "      <td>2020-11-23</td>\n",
       "      <td>9.991118e+08</td>\n",
       "      <td>0</td>\n",
       "      <td>0</td>\n",
       "      <td>B</td>\n",
       "    </tr>\n",
       "    <tr>\n",
       "      <th>61382</th>\n",
       "      <td>2020-11-23</td>\n",
       "      <td>9.994657e+08</td>\n",
       "      <td>0</td>\n",
       "      <td>0</td>\n",
       "      <td>B</td>\n",
       "    </tr>\n",
       "  </tbody>\n",
       "</table>\n",
       "<p>122954 rows × 5 columns</p>\n",
       "</div>"
      ],
      "text/plain": [
       "             date           cid  transactions  revenue group\n",
       "0      2020-11-06  1.001648e+09             0        0     A\n",
       "1      2020-11-06  1.001936e+09             0        0     A\n",
       "2      2020-11-06  1.003214e+08             0        0     A\n",
       "3      2020-11-06  1.004393e+09             0        0     A\n",
       "4      2020-11-06  1.006382e+09             0        0     A\n",
       "...           ...           ...           ...      ...   ...\n",
       "61378  2020-11-23  9.965675e+08             0        0     B\n",
       "61379  2020-11-23  9.970803e+07             0        0     B\n",
       "61380  2020-11-23  9.984814e+08             0        0     B\n",
       "61381  2020-11-23  9.991118e+08             0        0     B\n",
       "61382  2020-11-23  9.994657e+08             0        0     B\n",
       "\n",
       "[122954 rows x 5 columns]"
      ]
     },
     "execution_count": 18,
     "metadata": {},
     "output_type": "execute_result"
    }
   ],
   "source": [
    "sample = pd.concat([sample_a, sample_b])\n",
    "sample"
   ]
  },
  {
   "cell_type": "code",
   "execution_count": 19,
   "metadata": {},
   "outputs": [],
   "source": [
    "#Преобразовываем в datetime и подсчитываем сумму посетителей, транзакций и выручки.\n",
    "sample['date'] = pd.to_datetime(sample['date'], format='%Y-%m-%d')\n",
    "\n",
    "sample_data = sample.groupby(['date', 'group']).agg({\n",
    "    'cid': 'count',\n",
    "    'transactions': 'sum',\n",
    "    'revenue': 'sum'\n",
    "}).reset_index().rename(columns={'cid': 'cid_count', 'transactions': 'sum_transactions', 'revenue': 'sum_revenue'})"
   ]
  },
  {
   "cell_type": "code",
   "execution_count": 20,
   "metadata": {},
   "outputs": [
    {
     "data": {
      "text/html": [
       "<div>\n",
       "<style scoped>\n",
       "    .dataframe tbody tr th:only-of-type {\n",
       "        vertical-align: middle;\n",
       "    }\n",
       "\n",
       "    .dataframe tbody tr th {\n",
       "        vertical-align: top;\n",
       "    }\n",
       "\n",
       "    .dataframe thead th {\n",
       "        text-align: right;\n",
       "    }\n",
       "</style>\n",
       "<table border=\"1\" class=\"dataframe\">\n",
       "  <thead>\n",
       "    <tr style=\"text-align: right;\">\n",
       "      <th></th>\n",
       "      <th>date</th>\n",
       "      <th>group</th>\n",
       "      <th>cid_count</th>\n",
       "      <th>sum_transactions</th>\n",
       "      <th>sum_revenue</th>\n",
       "    </tr>\n",
       "  </thead>\n",
       "  <tbody>\n",
       "    <tr>\n",
       "      <th>4</th>\n",
       "      <td>2020-11-08</td>\n",
       "      <td>A</td>\n",
       "      <td>3354</td>\n",
       "      <td>25</td>\n",
       "      <td>846051</td>\n",
       "    </tr>\n",
       "  </tbody>\n",
       "</table>\n",
       "</div>"
      ],
      "text/plain": [
       "        date group  cid_count  sum_transactions  sum_revenue\n",
       "4 2020-11-08     A       3354                25       846051"
      ]
     },
     "execution_count": 20,
     "metadata": {},
     "output_type": "execute_result"
    }
   ],
   "source": [
    "sample_data[(sample_data['date'] == '2020-11-08') & (sample_data['group'] == 'A')]"
   ]
  },
  {
   "cell_type": "code",
   "execution_count": 21,
   "metadata": {},
   "outputs": [
    {
     "name": "stderr",
     "output_type": "stream",
     "text": [
      "C:\\Users\\korol\\AppData\\Local\\Temp\\ipykernel_2848\\2832472727.py:3: SettingWithCopyWarning: \n",
      "A value is trying to be set on a copy of a slice from a DataFrame.\n",
      "Try using .loc[row_indexer,col_indexer] = value instead\n",
      "\n",
      "See the caveats in the documentation: https://pandas.pydata.org/pandas-docs/stable/user_guide/indexing.html#returning-a-view-versus-a-copy\n",
      "  sample_data_a['cum_cid_count'] = sample_data_a['cid_count'].cumsum()\n",
      "C:\\Users\\korol\\AppData\\Local\\Temp\\ipykernel_2848\\2832472727.py:4: SettingWithCopyWarning: \n",
      "A value is trying to be set on a copy of a slice from a DataFrame.\n",
      "Try using .loc[row_indexer,col_indexer] = value instead\n",
      "\n",
      "See the caveats in the documentation: https://pandas.pydata.org/pandas-docs/stable/user_guide/indexing.html#returning-a-view-versus-a-copy\n",
      "  sample_data_a['cum_transactions'] = sample_data_a['sum_transactions'].cumsum()\n",
      "C:\\Users\\korol\\AppData\\Local\\Temp\\ipykernel_2848\\2832472727.py:5: SettingWithCopyWarning: \n",
      "A value is trying to be set on a copy of a slice from a DataFrame.\n",
      "Try using .loc[row_indexer,col_indexer] = value instead\n",
      "\n",
      "See the caveats in the documentation: https://pandas.pydata.org/pandas-docs/stable/user_guide/indexing.html#returning-a-view-versus-a-copy\n",
      "  sample_data_a['cum_revenue'] = sample_data_a['sum_revenue'].cumsum()\n",
      "C:\\Users\\korol\\AppData\\Local\\Temp\\ipykernel_2848\\2832472727.py:8: SettingWithCopyWarning: \n",
      "A value is trying to be set on a copy of a slice from a DataFrame.\n",
      "Try using .loc[row_indexer,col_indexer] = value instead\n",
      "\n",
      "See the caveats in the documentation: https://pandas.pydata.org/pandas-docs/stable/user_guide/indexing.html#returning-a-view-versus-a-copy\n",
      "  sample_data_a['cum_conversion'] = sample_data_a['cum_transactions'] / sample_data_a['cum_cid_count'] * 100\n",
      "C:\\Users\\korol\\AppData\\Local\\Temp\\ipykernel_2848\\2832472727.py:9: SettingWithCopyWarning: \n",
      "A value is trying to be set on a copy of a slice from a DataFrame.\n",
      "Try using .loc[row_indexer,col_indexer] = value instead\n",
      "\n",
      "See the caveats in the documentation: https://pandas.pydata.org/pandas-docs/stable/user_guide/indexing.html#returning-a-view-versus-a-copy\n",
      "  sample_data_a['cum_average_check'] = sample_data_a['cum_revenue'] / sample_data_a['cum_transactions']\n"
     ]
    },
    {
     "data": {
      "text/html": [
       "<div>\n",
       "<style scoped>\n",
       "    .dataframe tbody tr th:only-of-type {\n",
       "        vertical-align: middle;\n",
       "    }\n",
       "\n",
       "    .dataframe tbody tr th {\n",
       "        vertical-align: top;\n",
       "    }\n",
       "\n",
       "    .dataframe thead th {\n",
       "        text-align: right;\n",
       "    }\n",
       "</style>\n",
       "<table border=\"1\" class=\"dataframe\">\n",
       "  <thead>\n",
       "    <tr style=\"text-align: right;\">\n",
       "      <th></th>\n",
       "      <th>date</th>\n",
       "      <th>group</th>\n",
       "      <th>cid_count</th>\n",
       "      <th>sum_transactions</th>\n",
       "      <th>sum_revenue</th>\n",
       "      <th>cum_cid_count</th>\n",
       "      <th>cum_transactions</th>\n",
       "      <th>cum_revenue</th>\n",
       "      <th>cum_conversion</th>\n",
       "      <th>cum_average_check</th>\n",
       "    </tr>\n",
       "  </thead>\n",
       "  <tbody>\n",
       "    <tr>\n",
       "      <th>0</th>\n",
       "      <td>2020-11-06</td>\n",
       "      <td>A</td>\n",
       "      <td>2576</td>\n",
       "      <td>16</td>\n",
       "      <td>1577279</td>\n",
       "      <td>2576</td>\n",
       "      <td>16</td>\n",
       "      <td>1577279</td>\n",
       "      <td>0.621118</td>\n",
       "      <td>98579.937500</td>\n",
       "    </tr>\n",
       "    <tr>\n",
       "      <th>2</th>\n",
       "      <td>2020-11-07</td>\n",
       "      <td>A</td>\n",
       "      <td>2704</td>\n",
       "      <td>23</td>\n",
       "      <td>1721886</td>\n",
       "      <td>5280</td>\n",
       "      <td>39</td>\n",
       "      <td>3299165</td>\n",
       "      <td>0.738636</td>\n",
       "      <td>84593.974359</td>\n",
       "    </tr>\n",
       "    <tr>\n",
       "      <th>4</th>\n",
       "      <td>2020-11-08</td>\n",
       "      <td>A</td>\n",
       "      <td>3354</td>\n",
       "      <td>25</td>\n",
       "      <td>846051</td>\n",
       "      <td>8634</td>\n",
       "      <td>64</td>\n",
       "      <td>4145216</td>\n",
       "      <td>0.741256</td>\n",
       "      <td>64769.000000</td>\n",
       "    </tr>\n",
       "    <tr>\n",
       "      <th>6</th>\n",
       "      <td>2020-11-09</td>\n",
       "      <td>A</td>\n",
       "      <td>3234</td>\n",
       "      <td>18</td>\n",
       "      <td>708830</td>\n",
       "      <td>11868</td>\n",
       "      <td>82</td>\n",
       "      <td>4854046</td>\n",
       "      <td>0.690934</td>\n",
       "      <td>59195.682927</td>\n",
       "    </tr>\n",
       "    <tr>\n",
       "      <th>8</th>\n",
       "      <td>2020-11-10</td>\n",
       "      <td>A</td>\n",
       "      <td>3022</td>\n",
       "      <td>29</td>\n",
       "      <td>826984</td>\n",
       "      <td>14890</td>\n",
       "      <td>111</td>\n",
       "      <td>5681030</td>\n",
       "      <td>0.745467</td>\n",
       "      <td>51180.450450</td>\n",
       "    </tr>\n",
       "  </tbody>\n",
       "</table>\n",
       "</div>"
      ],
      "text/plain": [
       "        date group  cid_count  sum_transactions  sum_revenue  cum_cid_count  \\\n",
       "0 2020-11-06     A       2576                16      1577279           2576   \n",
       "2 2020-11-07     A       2704                23      1721886           5280   \n",
       "4 2020-11-08     A       3354                25       846051           8634   \n",
       "6 2020-11-09     A       3234                18       708830          11868   \n",
       "8 2020-11-10     A       3022                29       826984          14890   \n",
       "\n",
       "   cum_transactions  cum_revenue  cum_conversion  cum_average_check  \n",
       "0                16      1577279        0.621118       98579.937500  \n",
       "2                39      3299165        0.738636       84593.974359  \n",
       "4                64      4145216        0.741256       64769.000000  \n",
       "6                82      4854046        0.690934       59195.682927  \n",
       "8               111      5681030        0.745467       51180.450450  "
      ]
     },
     "execution_count": 21,
     "metadata": {},
     "output_type": "execute_result"
    }
   ],
   "source": [
    "#Выделяем по группе А и находим кумулятивные метрики\n",
    "sample_data_a = sample_data[sample_data['group'] == 'A']\n",
    "sample_data_a['cum_cid_count'] = sample_data_a['cid_count'].cumsum()\n",
    "sample_data_a['cum_transactions'] = sample_data_a['sum_transactions'].cumsum()\n",
    "sample_data_a['cum_revenue'] = sample_data_a['sum_revenue'].cumsum()\n",
    "\n",
    "#Рассчитываем кумулятивную конверсию\n",
    "sample_data_a['cum_conversion'] = sample_data_a['cum_transactions'] / sample_data_a['cum_cid_count'] * 100\n",
    "sample_data_a['cum_average_check'] = sample_data_a['cum_revenue'] / sample_data_a['cum_transactions']\n",
    "sample_data_a.head()\n"
   ]
  },
  {
   "cell_type": "code",
   "execution_count": 22,
   "metadata": {},
   "outputs": [
    {
     "data": {
      "text/plain": [
       "0.71"
      ]
     },
     "execution_count": 22,
     "metadata": {},
     "output_type": "execute_result"
    }
   ],
   "source": [
    "round(sample_data_a['cum_conversion'].mean(), 2)"
   ]
  },
  {
   "cell_type": "code",
   "execution_count": 23,
   "metadata": {},
   "outputs": [
    {
     "name": "stderr",
     "output_type": "stream",
     "text": [
      "C:\\Users\\korol\\AppData\\Local\\Temp\\ipykernel_2848\\24240220.py:3: SettingWithCopyWarning: \n",
      "A value is trying to be set on a copy of a slice from a DataFrame.\n",
      "Try using .loc[row_indexer,col_indexer] = value instead\n",
      "\n",
      "See the caveats in the documentation: https://pandas.pydata.org/pandas-docs/stable/user_guide/indexing.html#returning-a-view-versus-a-copy\n",
      "  sample_data_b['cum_cid_count'] = sample_data_b['cid_count'].cumsum()\n",
      "C:\\Users\\korol\\AppData\\Local\\Temp\\ipykernel_2848\\24240220.py:4: SettingWithCopyWarning: \n",
      "A value is trying to be set on a copy of a slice from a DataFrame.\n",
      "Try using .loc[row_indexer,col_indexer] = value instead\n",
      "\n",
      "See the caveats in the documentation: https://pandas.pydata.org/pandas-docs/stable/user_guide/indexing.html#returning-a-view-versus-a-copy\n",
      "  sample_data_b['cum_transactions'] = sample_data_b['sum_transactions'].cumsum()\n",
      "C:\\Users\\korol\\AppData\\Local\\Temp\\ipykernel_2848\\24240220.py:5: SettingWithCopyWarning: \n",
      "A value is trying to be set on a copy of a slice from a DataFrame.\n",
      "Try using .loc[row_indexer,col_indexer] = value instead\n",
      "\n",
      "See the caveats in the documentation: https://pandas.pydata.org/pandas-docs/stable/user_guide/indexing.html#returning-a-view-versus-a-copy\n",
      "  sample_data_b['cum_revenue'] = sample_data_b['sum_revenue'].cumsum()\n",
      "C:\\Users\\korol\\AppData\\Local\\Temp\\ipykernel_2848\\24240220.py:8: SettingWithCopyWarning: \n",
      "A value is trying to be set on a copy of a slice from a DataFrame.\n",
      "Try using .loc[row_indexer,col_indexer] = value instead\n",
      "\n",
      "See the caveats in the documentation: https://pandas.pydata.org/pandas-docs/stable/user_guide/indexing.html#returning-a-view-versus-a-copy\n",
      "  sample_data_b['cum_conversion'] = sample_data_b['cum_transactions'] / sample_data_b['cum_cid_count'] * 100\n",
      "C:\\Users\\korol\\AppData\\Local\\Temp\\ipykernel_2848\\24240220.py:9: SettingWithCopyWarning: \n",
      "A value is trying to be set on a copy of a slice from a DataFrame.\n",
      "Try using .loc[row_indexer,col_indexer] = value instead\n",
      "\n",
      "See the caveats in the documentation: https://pandas.pydata.org/pandas-docs/stable/user_guide/indexing.html#returning-a-view-versus-a-copy\n",
      "  sample_data_b['cum_average_check'] = sample_data_b['cum_revenue'] / sample_data_b['cum_transactions']\n"
     ]
    },
    {
     "data": {
      "text/html": [
       "<div>\n",
       "<style scoped>\n",
       "    .dataframe tbody tr th:only-of-type {\n",
       "        vertical-align: middle;\n",
       "    }\n",
       "\n",
       "    .dataframe tbody tr th {\n",
       "        vertical-align: top;\n",
       "    }\n",
       "\n",
       "    .dataframe thead th {\n",
       "        text-align: right;\n",
       "    }\n",
       "</style>\n",
       "<table border=\"1\" class=\"dataframe\">\n",
       "  <thead>\n",
       "    <tr style=\"text-align: right;\">\n",
       "      <th></th>\n",
       "      <th>date</th>\n",
       "      <th>group</th>\n",
       "      <th>cid_count</th>\n",
       "      <th>sum_transactions</th>\n",
       "      <th>sum_revenue</th>\n",
       "      <th>cum_cid_count</th>\n",
       "      <th>cum_transactions</th>\n",
       "      <th>cum_revenue</th>\n",
       "      <th>cum_conversion</th>\n",
       "      <th>cum_average_check</th>\n",
       "    </tr>\n",
       "  </thead>\n",
       "  <tbody>\n",
       "    <tr>\n",
       "      <th>1</th>\n",
       "      <td>2020-11-06</td>\n",
       "      <td>B</td>\n",
       "      <td>2499</td>\n",
       "      <td>19</td>\n",
       "      <td>996645</td>\n",
       "      <td>2499</td>\n",
       "      <td>19</td>\n",
       "      <td>996645</td>\n",
       "      <td>0.760304</td>\n",
       "      <td>52455.000000</td>\n",
       "    </tr>\n",
       "    <tr>\n",
       "      <th>3</th>\n",
       "      <td>2020-11-07</td>\n",
       "      <td>B</td>\n",
       "      <td>2804</td>\n",
       "      <td>19</td>\n",
       "      <td>555499</td>\n",
       "      <td>5303</td>\n",
       "      <td>38</td>\n",
       "      <td>1552144</td>\n",
       "      <td>0.716576</td>\n",
       "      <td>40845.894737</td>\n",
       "    </tr>\n",
       "    <tr>\n",
       "      <th>5</th>\n",
       "      <td>2020-11-08</td>\n",
       "      <td>B</td>\n",
       "      <td>3291</td>\n",
       "      <td>24</td>\n",
       "      <td>3044842</td>\n",
       "      <td>8594</td>\n",
       "      <td>62</td>\n",
       "      <td>4596986</td>\n",
       "      <td>0.721434</td>\n",
       "      <td>74144.935484</td>\n",
       "    </tr>\n",
       "    <tr>\n",
       "      <th>7</th>\n",
       "      <td>2020-11-09</td>\n",
       "      <td>B</td>\n",
       "      <td>3062</td>\n",
       "      <td>25</td>\n",
       "      <td>1285836</td>\n",
       "      <td>11656</td>\n",
       "      <td>87</td>\n",
       "      <td>5882822</td>\n",
       "      <td>0.746397</td>\n",
       "      <td>67618.643678</td>\n",
       "    </tr>\n",
       "    <tr>\n",
       "      <th>9</th>\n",
       "      <td>2020-11-10</td>\n",
       "      <td>B</td>\n",
       "      <td>3072</td>\n",
       "      <td>30</td>\n",
       "      <td>2414726</td>\n",
       "      <td>14728</td>\n",
       "      <td>117</td>\n",
       "      <td>8297548</td>\n",
       "      <td>0.794405</td>\n",
       "      <td>70919.213675</td>\n",
       "    </tr>\n",
       "  </tbody>\n",
       "</table>\n",
       "</div>"
      ],
      "text/plain": [
       "        date group  cid_count  sum_transactions  sum_revenue  cum_cid_count  \\\n",
       "1 2020-11-06     B       2499                19       996645           2499   \n",
       "3 2020-11-07     B       2804                19       555499           5303   \n",
       "5 2020-11-08     B       3291                24      3044842           8594   \n",
       "7 2020-11-09     B       3062                25      1285836          11656   \n",
       "9 2020-11-10     B       3072                30      2414726          14728   \n",
       "\n",
       "   cum_transactions  cum_revenue  cum_conversion  cum_average_check  \n",
       "1                19       996645        0.760304       52455.000000  \n",
       "3                38      1552144        0.716576       40845.894737  \n",
       "5                62      4596986        0.721434       74144.935484  \n",
       "7                87      5882822        0.746397       67618.643678  \n",
       "9               117      8297548        0.794405       70919.213675  "
      ]
     },
     "execution_count": 23,
     "metadata": {},
     "output_type": "execute_result"
    }
   ],
   "source": [
    "#Выделяем по группе А и находим кумулятивные метрики\n",
    "sample_data_b = sample_data[sample_data['group'] == 'B']\n",
    "sample_data_b['cum_cid_count'] = sample_data_b['cid_count'].cumsum()\n",
    "sample_data_b['cum_transactions'] = sample_data_b['sum_transactions'].cumsum()\n",
    "sample_data_b['cum_revenue'] = sample_data_b['sum_revenue'].cumsum()\n",
    "\n",
    "#Рассчитываем кумулятивную конверсию\n",
    "sample_data_b['cum_conversion'] = sample_data_b['cum_transactions'] / sample_data_b['cum_cid_count'] * 100\n",
    "sample_data_b['cum_average_check'] = sample_data_b['cum_revenue'] / sample_data_b['cum_transactions']\n",
    "sample_data_b.head()\n"
   ]
  },
  {
   "cell_type": "code",
   "execution_count": 24,
   "metadata": {},
   "outputs": [
    {
     "data": {
      "text/plain": [
       "0.76"
      ]
     },
     "execution_count": 24,
     "metadata": {},
     "output_type": "execute_result"
    }
   ],
   "source": [
    "round(sample_data_b['cum_conversion'].mean(), 2)"
   ]
  },
  {
   "cell_type": "code",
   "execution_count": 25,
   "metadata": {},
   "outputs": [
    {
     "data": {
      "image/png": "[encoded data removed]",
      "text/plain": [
       "<Figure size 800x400 with 1 Axes>"
      ]
     },
     "metadata": {},
     "output_type": "display_data"
    }
   ],
   "source": [
    "sample_data_ab = pd.concat([sample_data_a, sample_data_b])\n",
    "# создаём фигуру размером 8x4\n",
    "fig = plt.figure(figsize=(8, 4))\n",
    "# добавляем систему координат\n",
    "ax = fig.add_axes([1, 1, 1, 1])\n",
    "# строим lineplot для кумулятивной конверсии во времени в каждой группе\n",
    "sns.lineplot(x='date', y='cum_conversion', data=sample_data_ab, hue='group', ax=ax)\n",
    "# задаём подпись к графику\n",
    "ax.set_title('График кумулятивной конверсии по дням')\n",
    "# задаём поворот меток на оси абсцисс\n",
    "ax.xaxis.set_tick_params(rotation = 45)\n",
    "# задаём отображение сетки\n",
    "ax.grid(True);"
   ]
  },
  {
   "cell_type": "code",
   "execution_count": 26,
   "metadata": {},
   "outputs": [
    {
     "data": {
      "image/png": "[encoded data removed]",
      "text/plain": [
       "<Figure size 800x400 with 1 Axes>"
      ]
     },
     "metadata": {},
     "output_type": "display_data"
    }
   ],
   "source": [
    "# создаём фигуру размером 8x4\n",
    "fig = plt.figure(figsize=(8, 4))\n",
    "# добавляем систему координат\n",
    "ax = fig.add_axes([1, 1, 1, 1])\n",
    "# строим lineplot для кумулятивной конверсии во времени в каждой группе\n",
    "sns.lineplot(x='date', y='cum_average_check', data=sample_data_ab, hue='group', ax=ax)\n",
    "# задаём подпись к графику\n",
    "ax.set_title('График кумулятивного среднего чека по дням')\n",
    "# задаём поворот меток на оси абсцисс\n",
    "ax.xaxis.set_tick_params(rotation = 45)\n",
    "# задаём отображение сетки\n",
    "ax.grid(True);"
   ]
  },
  {
   "attachments": {},
   "cell_type": "markdown",
   "metadata": {},
   "source": [
    "## Статистичекий тесты для конверсии и других метрик"
   ]
  },
  {
   "cell_type": "code",
   "execution_count": 27,
   "metadata": {},
   "outputs": [],
   "source": [
    "from statsmodels.stats.proportion import proportions_ztest"
   ]
  },
  {
   "cell_type": "code",
   "execution_count": 28,
   "metadata": {},
   "outputs": [
    {
     "data": {
      "text/html": [
       "<div>\n",
       "<style scoped>\n",
       "    .dataframe tbody tr th:only-of-type {\n",
       "        vertical-align: middle;\n",
       "    }\n",
       "\n",
       "    .dataframe tbody tr th {\n",
       "        vertical-align: top;\n",
       "    }\n",
       "\n",
       "    .dataframe thead th {\n",
       "        text-align: right;\n",
       "    }\n",
       "</style>\n",
       "<table border=\"1\" class=\"dataframe\">\n",
       "  <thead>\n",
       "    <tr style=\"text-align: right;\">\n",
       "      <th></th>\n",
       "      <th>sum</th>\n",
       "      <th>count</th>\n",
       "    </tr>\n",
       "    <tr>\n",
       "      <th>group</th>\n",
       "      <th></th>\n",
       "      <th></th>\n",
       "    </tr>\n",
       "  </thead>\n",
       "  <tbody>\n",
       "    <tr>\n",
       "      <th>A</th>\n",
       "      <td>17467</td>\n",
       "      <td>145241</td>\n",
       "    </tr>\n",
       "    <tr>\n",
       "      <th>B</th>\n",
       "      <td>17238</td>\n",
       "      <td>145241</td>\n",
       "    </tr>\n",
       "  </tbody>\n",
       "</table>\n",
       "</div>"
      ],
      "text/plain": [
       "         sum   count\n",
       "group               \n",
       "A      17467  145241\n",
       "B      17238  145241"
      ]
     },
     "metadata": {},
     "output_type": "display_data"
    }
   ],
   "source": [
    "converted_piv= ab_data.groupby('group')['converted'].agg(\n",
    "    ['sum', 'count']\n",
    ")\n",
    "display(converted_piv)"
   ]
  },
  {
   "cell_type": "code",
   "execution_count": 29,
   "metadata": {},
   "outputs": [
    {
     "name": "stdout",
     "output_type": "stream",
     "text": [
      "p-value:  0.1\n",
      "Принимаем нулевую гипотезу. Конверсии в группах А и B равны\n"
     ]
    }
   ],
   "source": [
    "# нулевая и альтернативная гипотезы\n",
    "H0 = 'Конверсии в группах А и B равны'\n",
    "H1 = 'Конверсия в группе А выше, чем конверсия в группе B'\n",
    "alpha = 0.05 # уровень значимости\n",
    "# вычисляем значение p-value для z-теста для пропорций\n",
    "_, p_value = proportions_ztest(\n",
    "    count=converted_piv['sum'], #число \"успехов\"\n",
    "    nobs=converted_piv['count'], #общее число наблюдений\n",
    "    alternative='larger',\n",
    ")\n",
    "# выводим результат на экран\n",
    "print('p-value: ', round(p_value, 2))\n",
    "# сравниваем полученное p-value с уровнем значимости\n",
    "if (p_value < alpha): \n",
    "    print(\"Отвергаем нулевую гипотезу. {}\".format(H0))\n",
    "    print(\"Альтернативная гипотеза. H1: {}\".format(H1))\n",
    "else:\n",
    "    print(\"Принимаем нулевую гипотезу. {}\".format(H0))"
   ]
  },
  {
   "cell_type": "code",
   "execution_count": 30,
   "metadata": {},
   "outputs": [
    {
     "data": {
      "text/html": [
       "<div>\n",
       "<style scoped>\n",
       "    .dataframe tbody tr th:only-of-type {\n",
       "        vertical-align: middle;\n",
       "    }\n",
       "\n",
       "    .dataframe tbody tr th {\n",
       "        vertical-align: top;\n",
       "    }\n",
       "\n",
       "    .dataframe thead th {\n",
       "        text-align: right;\n",
       "    }\n",
       "</style>\n",
       "<table border=\"1\" class=\"dataframe\">\n",
       "  <thead>\n",
       "    <tr style=\"text-align: right;\">\n",
       "      <th></th>\n",
       "      <th>time(A)</th>\n",
       "      <th>time(B)</th>\n",
       "    </tr>\n",
       "  </thead>\n",
       "  <tbody>\n",
       "    <tr>\n",
       "      <th>0</th>\n",
       "      <td>435.0</td>\n",
       "      <td>549.2</td>\n",
       "    </tr>\n",
       "    <tr>\n",
       "      <th>1</th>\n",
       "      <td>454.5</td>\n",
       "      <td>630.2</td>\n",
       "    </tr>\n",
       "    <tr>\n",
       "      <th>2</th>\n",
       "      <td>447.0</td>\n",
       "      <td>437.2</td>\n",
       "    </tr>\n",
       "    <tr>\n",
       "      <th>3</th>\n",
       "      <td>480.0</td>\n",
       "      <td>637.2</td>\n",
       "    </tr>\n",
       "    <tr>\n",
       "      <th>4</th>\n",
       "      <td>561.0</td>\n",
       "      <td>712.4</td>\n",
       "    </tr>\n",
       "  </tbody>\n",
       "</table>\n",
       "</div>"
      ],
      "text/plain": [
       "   time(A)  time(B)\n",
       "0    435.0    549.2\n",
       "1    454.5    630.2\n",
       "2    447.0    437.2\n",
       "3    480.0    637.2\n",
       "4    561.0    712.4"
      ]
     },
     "metadata": {},
     "output_type": "display_data"
    }
   ],
   "source": [
    "time_data = pd.read_excel('data/time_data.xlsx')\n",
    "display(time_data.head())"
   ]
  },
  {
   "cell_type": "code",
   "execution_count": 31,
   "metadata": {},
   "outputs": [
    {
     "data": {
      "image/png": "[encoded data removed]",
      "text/plain": [
       "<Figure size 1200x400 with 2 Axes>"
      ]
     },
     "metadata": {},
     "output_type": "display_data"
    }
   ],
   "source": [
    "#создаём 2 графика размером 12x4\n",
    "fig, axes = plt.subplots(1, 2, figsize=(12, 4))\n",
    "#строим гистограмму для времени на сайте в каждой группе\n",
    "sns.histplot(x='time(A)', data=time_data, ax=axes[0])\n",
    "sns.histplot(x='time(B)', data=time_data, ax=axes[1])\n",
    "#задаём названия графикам\n",
    "axes[0].set_title('Распределение времени на сайте в группе А');\n",
    "axes[1].set_title('Распределение времени на сайте в группе B');"
   ]
  },
  {
   "cell_type": "code",
   "execution_count": 32,
   "metadata": {},
   "outputs": [
    {
     "name": "stdout",
     "output_type": "stream",
     "text": [
      "p-value группы А 0.43\n",
      "p-value группы B 0.12\n",
      "Принимаем нулевую гипотезу. Распределения в обеих группах нормальные\n"
     ]
    }
   ],
   "source": [
    "from scipy.stats import shapiro\n",
    "# нулевая и альтернативная гипотезы\n",
    "H0 = 'Распределения в обеих группах нормальные'\n",
    "H1 = 'Распределение в одной или обеих группах отлично от нормального'\n",
    "alpha = 0.05 # уровень значимости\n",
    "# вычисляем результат теста Шапиро-Уилка для выборок\n",
    "shapiro_result_a = shapiro(time_data['time(A)'])\n",
    "shapiro_result_b = shapiro(time_data['time(B)'])\n",
    "print('p-value группы А', round(shapiro_result_a.pvalue, 2))\n",
    "print('p-value группы B', round(shapiro_result_b.pvalue, 2))\n",
    "# сравниваем полученное p-value с уровнем значимости\n",
    "if shapiro_result_a.pvalue < alpha or shapiro_result_b.pvalue < alpha:\n",
    "    print(\"Отвергаем нулевую гипотезу. {}\".format(H0))\n",
    "    print(\"Альтернативная гипотеза. H1: {}\".format(H1))\n",
    "else:\n",
    "    print(\"Принимаем нулевую гипотезу. {}\".format(H0))\n",
    " \n",
    "# p-value группы А 0.43\n",
    "# p-value группы B 0.12\n",
    "# Принимаем нулевую гипотезу. Распределения в обеих группах нормальные"
   ]
  },
  {
   "cell_type": "code",
   "execution_count": 33,
   "metadata": {},
   "outputs": [
    {
     "name": "stdout",
     "output_type": "stream",
     "text": [
      "p-value: 0.0\n",
      "Отвергаем нулевую гипотезу. Среднее время в группах одинаково\n",
      "Альтернативная гипотеза. H1: Среднее время в группе А меньше, чем в группе B\n"
     ]
    }
   ],
   "source": [
    "from scipy.stats import ttest_ind\n",
    "# нулевая и альтернативная гипотезы\n",
    "H0 = 'Среднее время в группах одинаково'\n",
    "H1 = 'Среднее время в группе А меньше, чем в группе B'\n",
    "alpha = 0.05 #уровень значимости\n",
    "#вычисляем результат T-теста для выборок\n",
    "results = ttest_ind(\n",
    "    a=time_data['time(A)'],\n",
    "    b=time_data['time(B)'], \n",
    "    alternative='less'\n",
    ")\n",
    "print('p-value:', round(results.pvalue, 2))\n",
    " \n",
    "if results.pvalue < alpha:\n",
    "    print(\"Отвергаем нулевую гипотезу. {}\".format(H0))\n",
    "    print(\"Альтернативная гипотеза. H1: {}\".format(H1))\n",
    "else:\n",
    "    print(\"Принимаем нулевую гипотезу. {}\".format(H0))\n",
    " \n",
    "# p-value: 0.0\n",
    "# Отвергаем нулевую гипотезу. Среднее время в группах одинаково\n",
    "# Альтернативная гипотеза. H1: Среднее время в группе А меньше, чем в группе B"
   ]
  },
  {
   "cell_type": "code",
   "execution_count": 34,
   "metadata": {},
   "outputs": [
    {
     "data": {
      "text/html": [
       "<div>\n",
       "<style scoped>\n",
       "    .dataframe tbody tr th:only-of-type {\n",
       "        vertical-align: middle;\n",
       "    }\n",
       "\n",
       "    .dataframe tbody tr th {\n",
       "        vertical-align: top;\n",
       "    }\n",
       "\n",
       "    .dataframe thead th {\n",
       "        text-align: right;\n",
       "    }\n",
       "</style>\n",
       "<table border=\"1\" class=\"dataframe\">\n",
       "  <thead>\n",
       "    <tr style=\"text-align: right;\">\n",
       "      <th></th>\n",
       "      <th>sum</th>\n",
       "      <th>count</th>\n",
       "    </tr>\n",
       "    <tr>\n",
       "      <th>group</th>\n",
       "      <th></th>\n",
       "      <th></th>\n",
       "    </tr>\n",
       "  </thead>\n",
       "  <tbody>\n",
       "    <tr>\n",
       "      <th>A</th>\n",
       "      <td>12.829598</td>\n",
       "      <td>18</td>\n",
       "    </tr>\n",
       "    <tr>\n",
       "      <th>B</th>\n",
       "      <td>13.719211</td>\n",
       "      <td>18</td>\n",
       "    </tr>\n",
       "  </tbody>\n",
       "</table>\n",
       "</div>"
      ],
      "text/plain": [
       "             sum  count\n",
       "group                  \n",
       "A      12.829598     18\n",
       "B      13.719211     18"
      ]
     },
     "metadata": {},
     "output_type": "display_data"
    }
   ],
   "source": [
    "converted_piv= sample_data_ab.groupby('group')['cum_conversion'].agg(\n",
    "    ['sum', 'count']\n",
    ")\n",
    "display(converted_piv)"
   ]
  },
  {
   "cell_type": "code",
   "execution_count": 35,
   "metadata": {},
   "outputs": [
    {
     "name": "stdout",
     "output_type": "stream",
     "text": [
      "p-value:  0.63\n",
      "Принимаем нулевую гипотезу. Конверсии в группах А и B равны\n"
     ]
    }
   ],
   "source": [
    "# нулевая и альтернативная гипотезы\n",
    "H0 = 'Конверсии в группах А и B равны'\n",
    "H1 = 'Конверсия в группе А меньше, чем конверсия в группе B'\n",
    "alpha = 0.01# уровень значимости\n",
    "# вычисляем значение p-value для z-теста для пропорций\n",
    "_, p_value = proportions_ztest(\n",
    "    count=converted_piv['sum'], #число \"успехов\"\n",
    "    nobs=converted_piv['count'], #общее число наблюдений\n",
    "    alternative='larger',\n",
    ")\n",
    "# выводим результат на экран\n",
    "print('p-value: ', round(p_value, 2))\n",
    "# сравниваем полученное p-value с уровнем значимости\n",
    "if (p_value < alpha): \n",
    "    print(\"Отвергаем нулевую гипотезу. {}\".format(H0))\n",
    "    print(\"Альтернативная гипотеза. H1: {}\".format(H1))\n",
    "else:\n",
    "    print(\"Принимаем нулевую гипотезу. {}\".format(H0))"
   ]
  },
  {
   "cell_type": "code",
   "execution_count": 36,
   "metadata": {},
   "outputs": [
    {
     "name": "stdout",
     "output_type": "stream",
     "text": [
      "p-value группы А 0.0\n",
      "p-value группы B 0.0\n",
      "Отвергаем нулевую гипотезу. Распределения в обеих группах нормальные\n",
      "Альтернативная гипотеза. H1: Распределение в одной или обеих группах отлично от нормального\n"
     ]
    }
   ],
   "source": [
    "# нулевая и альтернативная гипотезы\n",
    "H0 = 'Распределения в обеих группах нормальные'\n",
    "H1 = 'Распределение в одной или обеих группах отлично от нормального'\n",
    "alpha = 0.1 # уровень значимости\n",
    "# вычисляем результат теста Шапиро-Уилка для выборок\n",
    "shapiro_result_a = shapiro(sample_data_ab[sample_data_ab['group'] == 'A']['cum_average_check'])\n",
    "shapiro_result_b = shapiro(sample_data_ab[sample_data_ab['group'] == 'B']['cum_average_check'])\n",
    "print('p-value группы А', round(shapiro_result_a.pvalue, 2))\n",
    "print('p-value группы B', round(shapiro_result_b.pvalue, 2))\n",
    "# сравниваем полученное p-value с уровнем значимости\n",
    "if shapiro_result_a.pvalue < alpha or shapiro_result_b.pvalue < alpha:\n",
    "    print(\"Отвергаем нулевую гипотезу. {}\".format(H0))\n",
    "    print(\"Альтернативная гипотеза. H1: {}\".format(H1))\n",
    "else:\n",
    "    print(\"Принимаем нулевую гипотезу. {}\".format(H0))"
   ]
  },
  {
   "cell_type": "code",
   "execution_count": 37,
   "metadata": {},
   "outputs": [
    {
     "name": "stdout",
     "output_type": "stream",
     "text": [
      "p-value:  0.0\n",
      "Отвергаем нулевую гипотезу. Ежедневный средний чек в группе А равен ежедневному среднему чеку в группе B.\n",
      "Альтернативная гипотеза. H1: Ежедневный средний чек в группе А меньше, чем в группе B\n"
     ]
    }
   ],
   "source": [
    "from scipy.stats import mannwhitneyu\n",
    "# нулевая и альтернативная гипотезы\n",
    "H0 = 'Ежедневный средний чек в группе А равен ежедневному среднему чеку в группе B.'\n",
    "H1 = 'Ежедневный средний чек в группе А меньше, чем в группе B'\n",
    "alpha = 0.1 # уровень значимости\n",
    "# вычисляем результат теста Манна-Уитни для выборки\n",
    "_, p_value = mannwhitneyu(sample_data_ab[sample_data_ab['group'] == 'A']['cum_average_check'], sample_data_ab[sample_data_ab['group'] == 'B']['cum_average_check'])\n",
    "# выводим результат на экран\n",
    "print('p-value: ', round(p_value, 2))\n",
    "# сравниваем полученное p-value с уровнем значимости\n",
    "if (p_value < alpha): \n",
    "    print(\"Отвергаем нулевую гипотезу. {}\".format(H0))\n",
    "    print(\"Альтернативная гипотеза. H1: {}\".format(H1))\n",
    "else:\n",
    "    print(\"Принимаем нулевую гипотезу. {}\".format(H0))"
   ]
  },
  {
   "attachments": {},
   "cell_type": "markdown",
   "metadata": {},
   "source": [
    "## Доверительный интервал"
   ]
  },
  {
   "cell_type": "code",
   "execution_count": 38,
   "metadata": {},
   "outputs": [],
   "source": [
    "n = 36 # размер выборки\n",
    "x_mean = 16100 # выборочное среднее\n",
    "sigma = 12000 # истинное стандартное отклонение\n",
    "gamma = 0.95 # уровень надёжности\n",
    "alpha = 1 - gamma # уровень значимости"
   ]
  },
  {
   "cell_type": "code",
   "execution_count": 39,
   "metadata": {},
   "outputs": [],
   "source": [
    "from scipy.stats import norm\n",
    "#По специфическим причинам реализации функция возвращает не совсем z-критическое, а его отрицательный модуль, поэтому мы берём его со знаком минус.\n",
    "z_crit = -norm.ppf(alpha/2) # z критическое"
   ]
  },
  {
   "cell_type": "code",
   "execution_count": 40,
   "metadata": {},
   "outputs": [
    {
     "name": "stdout",
     "output_type": "stream",
     "text": [
      "Доверительный интервал: (12180, 20020)\n"
     ]
    }
   ],
   "source": [
    "# Универсальный код, можно оформить в ф-ию\n",
    "eps = z_crit * sigma/(n ** 0.5) #погрешность\n",
    "lower_bound = x_mean - eps # левая (нижняя) граница\n",
    "upper_bound = x_mean + eps # правая (верхняя) граница\n",
    "confidence_interval = (round(lower_bound), round(upper_bound)) # создаём кортеж из округлённых границ интервала\n",
    "print('Доверительный интервал: {}'.format(confidence_interval)) # выводим результат"
   ]
  },
  {
   "cell_type": "code",
   "execution_count": 44,
   "metadata": {},
   "outputs": [
    {
     "name": "stdout",
     "output_type": "stream",
     "text": [
      "Z-критическое = : 1.64\n",
      "Доверительный интервал: (11.86, 12.84)\n"
     ]
    }
   ],
   "source": [
    "n = 64 # размер выборки\n",
    "x_mean = 12.35 # выборочное среднее\n",
    "sigma = 2.4 # истинное стандартное отклонение\n",
    "gamma = 0.90 # уровень надёжности\n",
    "alpha = 1 - gamma # уровень значимости\n",
    "z_crit = -norm.ppf(alpha/2) # z критическое\n",
    "print('Z-критическое = : {}'.format(round(z_crit, 2))) # выводим результат\n",
    "eps = z_crit * sigma/(n ** 0.5) #погрешность\n",
    "lower_bound = x_mean - eps # левая (нижняя) граница\n",
    "upper_bound = x_mean + eps # правая (верхняя) граница\n",
    "confidence_interval = (round(lower_bound, 2), round(upper_bound,2 )) # создаём кортеж из округлённых границ интервала\n",
    "print('Доверительный интервал: {}'.format(confidence_interval)) # выводим результат"
   ]
  },
  {
   "cell_type": "code",
   "execution_count": 45,
   "metadata": {},
   "outputs": [
    {
     "name": "stdout",
     "output_type": "stream",
     "text": [
      "Доверительный интервал: (1778, 2222)\n"
     ]
    }
   ],
   "source": [
    "from scipy.stats import t\n",
    "n = 15 # размер выборки\n",
    "k = n - 1 # число степеней свободы\n",
    "x_mean = 2000 # выборочное среднее\n",
    "x_std = 400 # выборочное стандартное отклонение\n",
    "gamma = 0.95 # уровень надёжности\n",
    "alpha = 1 - gamma # уровень значимости\n",
    "#Аналогично z-критическому функция возвращает отрицательный модуль t-критического, поэтому мы берём его со знаком минус\n",
    "t_crit = -t.ppf(alpha/2, k) # t-критическое\n",
    "eps = t_crit * x_std/(n ** 0.5) # погрешность\n",
    "lower_bound = x_mean - eps # левая (нижняя) граница\n",
    "upper_bound = x_mean + eps # правая (верхняя) граница\n",
    "confidence_interval = (round(lower_bound), round(upper_bound)) # создаём кортеж из округлённых границ интервала\n",
    "print('Доверительный интервал: {}'.format(confidence_interval)) # выводим результат"
   ]
  },
  {
   "cell_type": "code",
   "execution_count": 46,
   "metadata": {},
   "outputs": [
    {
     "name": "stdout",
     "output_type": "stream",
     "text": [
      "Доверительный интервал: (3146, 3934)\n"
     ]
    }
   ],
   "source": [
    "from scipy.stats import t\n",
    "n = 25 # размер выборки\n",
    "k = n - 1 # число степеней свободы\n",
    "x_mean = 3540 # выборочное среднее\n",
    "x_std = 1150 # выборочное стандартное отклонение\n",
    "gamma = 0.9 # уровень надёжности\n",
    "alpha = 1 - gamma # уровень значимости\n",
    "#Аналогично z-критическому функция возвращает отрицательный модуль t-критического, поэтому мы берём его со знаком минус\n",
    "t_crit = -t.ppf(alpha/2, k) # t-критическое\n",
    "eps = t_crit * x_std/(n ** 0.5) # погрешность\n",
    "lower_bound = x_mean - eps # левая (нижняя) граница\n",
    "upper_bound = x_mean + eps # правая (верхняя) граница\n",
    "confidence_interval = (round(lower_bound), round(upper_bound)) # создаём кортеж из округлённых границ интервала\n",
    "print('Доверительный интервал: {}'.format(confidence_interval)) # выводим результат"
   ]
  },
  {
   "cell_type": "code",
   "execution_count": 47,
   "metadata": {},
   "outputs": [
    {
     "data": {
      "text/html": [
       "<div>\n",
       "<style scoped>\n",
       "    .dataframe tbody tr th:only-of-type {\n",
       "        vertical-align: middle;\n",
       "    }\n",
       "\n",
       "    .dataframe tbody tr th {\n",
       "        vertical-align: top;\n",
       "    }\n",
       "\n",
       "    .dataframe thead th {\n",
       "        text-align: right;\n",
       "    }\n",
       "</style>\n",
       "<table border=\"1\" class=\"dataframe\">\n",
       "  <thead>\n",
       "    <tr style=\"text-align: right;\">\n",
       "      <th></th>\n",
       "      <th>user_id</th>\n",
       "      <th>timestamp</th>\n",
       "      <th>group</th>\n",
       "      <th>converted</th>\n",
       "    </tr>\n",
       "  </thead>\n",
       "  <tbody>\n",
       "    <tr>\n",
       "      <th>0</th>\n",
       "      <td>851104</td>\n",
       "      <td>2017-01-21</td>\n",
       "      <td>A</td>\n",
       "      <td>0</td>\n",
       "    </tr>\n",
       "    <tr>\n",
       "      <th>1</th>\n",
       "      <td>804228</td>\n",
       "      <td>2017-01-12</td>\n",
       "      <td>A</td>\n",
       "      <td>0</td>\n",
       "    </tr>\n",
       "    <tr>\n",
       "      <th>2</th>\n",
       "      <td>661590</td>\n",
       "      <td>2017-01-11</td>\n",
       "      <td>B</td>\n",
       "      <td>0</td>\n",
       "    </tr>\n",
       "    <tr>\n",
       "      <th>3</th>\n",
       "      <td>853541</td>\n",
       "      <td>2017-01-08</td>\n",
       "      <td>B</td>\n",
       "      <td>0</td>\n",
       "    </tr>\n",
       "    <tr>\n",
       "      <th>4</th>\n",
       "      <td>864975</td>\n",
       "      <td>2017-01-21</td>\n",
       "      <td>A</td>\n",
       "      <td>1</td>\n",
       "    </tr>\n",
       "  </tbody>\n",
       "</table>\n",
       "</div>"
      ],
      "text/plain": [
       "   user_id   timestamp group  converted\n",
       "0   851104  2017-01-21     A          0\n",
       "1   804228  2017-01-12     A          0\n",
       "2   661590  2017-01-11     B          0\n",
       "3   853541  2017-01-08     B          0\n",
       "4   864975  2017-01-21     A          1"
      ]
     },
     "execution_count": 47,
     "metadata": {},
     "output_type": "execute_result"
    }
   ],
   "source": [
    "ab_data = pd.read_csv('data/ab_data.csv')\n",
    "ab_data.head()"
   ]
  },
  {
   "cell_type": "code",
   "execution_count": 48,
   "metadata": {},
   "outputs": [],
   "source": [
    "#фильтруем данные группы А\n",
    "a_data = ab_data[ab_data['group'] == 'A']\n",
    "#фильтруем данные группы B\n",
    "b_data = ab_data[ab_data['group'] == 'B']"
   ]
  },
  {
   "attachments": {},
   "cell_type": "markdown",
   "metadata": {},
   "source": [
    "Доверительный интервал для пропорции (конверсии)"
   ]
  },
  {
   "cell_type": "code",
   "execution_count": 49,
   "metadata": {},
   "outputs": [],
   "source": [
    "def proportions_conf_interval(n, x_p, gamma=0.95):   \n",
    "    alpha = 1 - gamma # уровень значимости\n",
    "    z_crit = -norm.ppf(alpha/2) # z критическое\n",
    "    eps = z_crit * (x_p * (1 - x_p) / n) ** 0.5 #погрешность\n",
    "    lower_bound = x_p - eps # левая (нижняя) граница\n",
    "    upper_bound = x_p + eps # правая (верхняя) граница\n",
    "    # возвращаем кортеж из округлённых границ интервала\n",
    "    return round(lower_bound * 100, 2), round(upper_bound * 100, 2)"
   ]
  },
  {
   "cell_type": "code",
   "execution_count": 50,
   "metadata": {},
   "outputs": [
    {
     "name": "stdout",
     "output_type": "stream",
     "text": [
      "Доверительный интервал для конверсии группы А: (11.86, 12.19)\n",
      "Доверительный интервал для конверсии группы B: (11.7, 12.03)\n"
     ]
    }
   ],
   "source": [
    "conf_interval_a = proportions_conf_interval(\n",
    "n=a_data['user_id'].count(), # размер выборки\n",
    "x_p=a_data['converted'].mean() # выборочная пропорция\n",
    ")\n",
    "conf_interval_b = proportions_conf_interval(\n",
    "n=b_data['user_id'].count(), # размер выборки\n",
    "x_p=b_data['converted'].mean() # выборочная пропорция\n",
    ")\n",
    "print('Доверительный интервал для конверсии группы А: {}'.format(conf_interval_a))\n",
    "print('Доверительный интервал для конверсии группы B: {}'.format(conf_interval_b))"
   ]
  },
  {
   "attachments": {},
   "cell_type": "markdown",
   "metadata": {},
   "source": [
    "Доверительный интервал разницы пропорций (конверсий)"
   ]
  },
  {
   "cell_type": "code",
   "execution_count": 72,
   "metadata": {},
   "outputs": [],
   "source": [
    "import numpy as np"
   ]
  },
  {
   "cell_type": "code",
   "execution_count": 88,
   "metadata": {},
   "outputs": [],
   "source": [
    "def diff_proportions_conf_interval(n, xp, gamma=0.95):\n",
    "    alpha = 1 - gamma # уровень значимости\n",
    "    diff = xp[1] - xp[0] # выборочная разница конверсий групп B и A\n",
    "    z_crit = -norm.ppf(alpha/2) # z критическое\n",
    "    eps = z_crit * (xp[0] * (1 - xp[0])/n[0] + xp[1] * (1 - xp[1])/n[1]) ** 0.5 # погрешность\n",
    "    lower_bound = diff - eps # левая (нижняя) граница\n",
    "    upper_bound = diff + eps # правая (верхняя) граница\n",
    "    # возвращаем кортеж из округлённых границ интервала\n",
    "    return round(lower_bound *100, 2), round(upper_bound * 100, 2)"
   ]
  },
  {
   "cell_type": "code",
   "execution_count": 89,
   "metadata": {},
   "outputs": [
    {
     "name": "stdout",
     "output_type": "stream",
     "text": [
      "Доверительный интервал для разности конверсий: (-0.39, 0.08)\n"
     ]
    }
   ],
   "source": [
    "# размеры выборок групп А и B\n",
    "n = [a_data['user_id'].count(), b_data['user_id'].count()]\n",
    "# выборочная пропорция групп A и B\n",
    "xp = [a_data['converted'].mean(), b_data['converted'].mean()]\n",
    "# строим доверительный интервал для разности конверсий\n",
    "diff_inverval = diff_proportions_conf_interval(n, xp)\n",
    "print('Доверительный интервал для разности конверсий: {}'.format(diff_inverval))"
   ]
  },
  {
   "cell_type": "code",
   "execution_count": 90,
   "metadata": {},
   "outputs": [],
   "source": [
    "def proportions_conf_interval(n, x_p, gamma=0.95):   \n",
    "    alpha = 1 - gamma # уровень значимости\n",
    "    z_crit = -norm.ppf(alpha/2) # z критическое\n",
    "    eps = z_crit * (x_p * (1 - x_p) / n) ** 0.5 #погрешность\n",
    "    lower_bound = x_p - eps # левая (нижняя) граница\n",
    "    upper_bound = x_p + eps # правая (верхняя) граница\n",
    "    # возвращаем кортеж из округлённых границ интервала\n",
    "    return np.round(lower_bound * 100, 2), np.round(upper_bound * 100, 2)"
   ]
  },
  {
   "cell_type": "code",
   "execution_count": 91,
   "metadata": {},
   "outputs": [
    {
     "data": {
      "text/plain": [
       "(64.35, 75.33)"
      ]
     },
     "execution_count": 91,
     "metadata": {},
     "output_type": "execute_result"
    }
   ],
   "source": [
    "conf_interval_a = proportions_conf_interval(\n",
    "n=189, # размер выборки, 189 кооментариев отобрал менеджер\n",
    "x_p=132/189, # выборочная пропорция, так как нам нужны только положительные, то вычисляем их пропорцию (это первый вопрос)\n",
    "gamma = 0.9\n",
    ")\n",
    "conf_interval_a"
   ]
  },
  {
   "cell_type": "code",
   "execution_count": 92,
   "metadata": {},
   "outputs": [
    {
     "name": "stdout",
     "output_type": "stream",
     "text": [
      "Доверительный интервал для разности конверсий: (-1.36, 2.36)\n"
     ]
    }
   ],
   "source": [
    "# размеры выборок групп А и B\n",
    "n = [1000, 1000]\n",
    "# выборочная пропорция групп A и B\n",
    "xp = [45/1000, 50/1000]\n",
    "# строим доверительный интервал для разности конверсий\n",
    "diff_inverval = diff_proportions_conf_interval(n, xp)\n",
    "print('Доверительный интервал для разности конверсий: {}'.format(diff_inverval))"
   ]
  }
 ],
 "metadata": {
  "kernelspec": {
   "display_name": "ds_sf",
   "language": "python",
   "name": "python3"
  },
  "language_info": {
   "codemirror_mode": {
    "name": "ipython",
    "version": 3
   },
   "file_extension": ".py",
   "mimetype": "text/x-python",
   "name": "python",
   "nbconvert_exporter": "python",
   "pygments_lexer": "ipython3",
   "version": "3.11.0"
  },
  "orig_nbformat": 4
 },
 "nbformat": 4,
 "nbformat_minor": 2
}
