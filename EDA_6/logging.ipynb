{
 "cells": [
  {
   "cell_type": "code",
   "execution_count": 1,
   "metadata": {},
   "outputs": [],
   "source": [
    "import pandas as pd \n",
    "\n",
    "import os\n",
    "import logging"
   ]
  },
  {
   "cell_type": "code",
   "execution_count": 2,
   "metadata": {},
   "outputs": [
    {
     "name": "stderr",
     "output_type": "stream",
     "text": [
      "WARNING:root:This message is a warning\n",
      "ERROR:root:This is an error message\n",
      "CRITICAL:root:This is a critical message\n"
     ]
    }
   ],
   "source": [
    "# Уровни\n",
    "logging.debug('This is a debug message') #Отладка\n",
    "logging.info('This is an informational message') #Информация\n",
    "logging.warning('This message is a warning') #Предупреждение\n",
    "logging.error('This is an error message') #Ошибка\n",
    "logging.critical('This is a critical message') #Критический"
   ]
  },
  {
   "cell_type": "code",
   "execution_count": 3,
   "metadata": {},
   "outputs": [],
   "source": [
    "from importlib import reload"
   ]
  },
  {
   "cell_type": "code",
   "execution_count": 4,
   "metadata": {},
   "outputs": [
    {
     "data": {
      "text/plain": [
       "<module 'logging' from 'C:\\\\Users\\\\korol\\\\AppData\\\\Local\\\\Programs\\\\Python\\\\Python311\\\\Lib\\\\logging\\\\__init__.py'>"
      ]
     },
     "execution_count": 4,
     "metadata": {},
     "output_type": "execute_result"
    }
   ],
   "source": [
    "reload(logging)"
   ]
  },
  {
   "cell_type": "code",
   "execution_count": 5,
   "metadata": {},
   "outputs": [],
   "source": [
    "logging.basicConfig(level=logging.DEBUG)"
   ]
  },
  {
   "cell_type": "code",
   "execution_count": 6,
   "metadata": {},
   "outputs": [
    {
     "name": "stderr",
     "output_type": "stream",
     "text": [
      "DEBUG:root:This is a debug message\n",
      "INFO:root:This is an informational message\n",
      "WARNING:root:This message is a warning\n",
      "ERROR:root:This is an error message\n",
      "CRITICAL:root:This is a critical message\n"
     ]
    }
   ],
   "source": [
    "# Уровни\n",
    "logging.debug('This is a debug message') #Отладка\n",
    "logging.info('This is an informational message') #Информация\n",
    "logging.warning('This message is a warning') #Предупреждение\n",
    "logging.error('This is an error message') #Ошибка\n",
    "logging.critical('This is a critical message') #Критический"
   ]
  },
  {
   "cell_type": "code",
   "execution_count": 7,
   "metadata": {},
   "outputs": [
    {
     "data": {
      "text/plain": [
       "<FileHandler c:\\Users\\korol\\projects\\new_sf_ds\\EDA_6\\log_file.log (NOTSET)>"
      ]
     },
     "execution_count": 7,
     "metadata": {},
     "output_type": "execute_result"
    }
   ],
   "source": [
    "logging.FileHandler('log_file.log')"
   ]
  },
  {
   "cell_type": "code",
   "execution_count": 8,
   "metadata": {},
   "outputs": [
    {
     "name": "stderr",
     "output_type": "stream",
     "text": [
      "INFO: 2023-03-05 16:22:58,426: Check\n"
     ]
    }
   ],
   "source": [
    "reload(logging)\n",
    " \n",
    "logging.basicConfig(\n",
    "    format=\"%(levelname)s: %(asctime)s: %(message)s\",\n",
    "    level=logging.DEBUG\n",
    ")\n",
    "logging.info('Check')"
   ]
  },
  {
   "cell_type": "code",
   "execution_count": 9,
   "metadata": {},
   "outputs": [],
   "source": [
    "df = pd.read_csv('data/KaggleV2-May-2016.csv')"
   ]
  },
  {
   "cell_type": "code",
   "execution_count": 10,
   "metadata": {},
   "outputs": [],
   "source": [
    "# Функция для создания лог-файла и записи в него информации\n",
    "def get_logger(path, file):\n",
    "   \"\"\"[Создает лог-файл для логирования в него]\n",
    "   Аргументы:\n",
    "       path {string} -- путь к директории\n",
    "       file {string} -- имя файла\n",
    "  \n",
    "   Возвращает:\n",
    "       [obj] -- [логер]\n",
    "   \"\"\"\n",
    " \n",
    "   # проверяем, существует ли файл\n",
    "   log_file = os.path.join(path, file)\n",
    " \n",
    "   if not os.path.isfile(log_file):\n",
    "       open(log_file, \"w+\").close()\n",
    " \n",
    "   # поменяем формат логирования\n",
    "   file_logging_format = \"%(levelname)s: %(asctime)s: %(message)s\"\n",
    " \n",
    "   # конфигурируем лог-файл\n",
    "   logging.basicConfig(level=logging.INFO, \n",
    "   format = file_logging_format)\n",
    "   logger = logging.getLogger()\n",
    "  \n",
    "   # создадим хэнлдер для записи лога в файл\n",
    "   handler = logging.FileHandler(log_file)\n",
    " \n",
    "   # установим уровень логирования\n",
    "   handler.setLevel(logging.INFO)\n",
    "  \n",
    "   # создадим формат логирования, используя file_logging_format\n",
    "   formatter = logging.Formatter(file_logging_format)\n",
    "   handler.setFormatter(formatter)\n",
    " \n",
    "   # добавим хэндлер лог-файлу\n",
    "   logger.addHandler(handler)\n",
    " \n",
    "   return logger"
   ]
  },
  {
   "cell_type": "code",
   "execution_count": 11,
   "metadata": {},
   "outputs": [
    {
     "name": "stderr",
     "output_type": "stream",
     "text": [
      "�������� ��� 䠩� logs 㦥 �������.\n"
     ]
    }
   ],
   "source": [
    "# создаем папку для логирования\n",
    "!mkdir logs"
   ]
  },
  {
   "cell_type": "code",
   "execution_count": 12,
   "metadata": {},
   "outputs": [],
   "source": [
    "# создаем лог-файл\n",
    "logger = get_logger(path=\"logs/\", file=\"data.logs\")"
   ]
  },
  {
   "cell_type": "code",
   "execution_count": 13,
   "metadata": {},
   "outputs": [
    {
     "name": "stderr",
     "output_type": "stream",
     "text": [
      "INFO: 2023-03-05 16:23:07,724: Data\n"
     ]
    }
   ],
   "source": [
    "logger.info(\"Data\")"
   ]
  },
  {
   "cell_type": "code",
   "execution_count": 14,
   "metadata": {},
   "outputs": [
    {
     "name": "stderr",
     "output_type": "stream",
     "text": [
      "INFO: 2023-03-05 16:23:08,975: Data shape (110527, 14)\n"
     ]
    }
   ],
   "source": [
    "logger.info(\"Data shape {}\".format(df.shape))"
   ]
  },
  {
   "cell_type": "code",
   "execution_count": 15,
   "metadata": {},
   "outputs": [
    {
     "name": "stderr",
     "output_type": "stream",
     "text": [
      "INFO: 2023-03-05 16:23:10,460: Percentage of women: 0.653882342398853\n"
     ]
    }
   ],
   "source": [
    "logger.info(\"Percentage of women: {}\".format(df[df['No-show']=='Yes']['Gender'].value_counts(True)[0]))"
   ]
  },
  {
   "cell_type": "code",
   "execution_count": 16,
   "metadata": {},
   "outputs": [
    {
     "name": "stderr",
     "output_type": "stream",
     "text": [
      "INFO: 2023-03-05 16:23:11,886: Percentage of men: 0.346117657601147\n"
     ]
    }
   ],
   "source": [
    "logger.info(\"Percentage of men: {}\".format(df[df['No-show']=='Yes']['Gender'].value_counts(True)[1]))"
   ]
  },
  {
   "cell_type": "code",
   "execution_count": 17,
   "metadata": {},
   "outputs": [
    {
     "name": "stderr",
     "output_type": "stream",
     "text": [
      "ERROR: 2023-03-05 16:23:12,978: Data shape is incorrect!\n"
     ]
    }
   ],
   "source": [
    "if df.shape != (110526,14):\n",
    "  logger.error('Data shape is incorrect!')"
   ]
  },
  {
   "cell_type": "code",
   "execution_count": null,
   "metadata": {},
   "outputs": [],
   "source": []
  },
  {
   "cell_type": "code",
   "execution_count": null,
   "metadata": {},
   "outputs": [],
   "source": []
  }
 ],
 "metadata": {
  "kernelspec": {
   "display_name": "ds_sf",
   "language": "python",
   "name": "python3"
  },
  "language_info": {
   "codemirror_mode": {
    "name": "ipython",
    "version": 3
   },
   "file_extension": ".py",
   "mimetype": "text/x-python",
   "name": "python",
   "nbconvert_exporter": "python",
   "pygments_lexer": "ipython3",
   "version": "3.11.0"
  },
  "orig_nbformat": 4
 },
 "nbformat": 4,
 "nbformat_minor": 2
}
